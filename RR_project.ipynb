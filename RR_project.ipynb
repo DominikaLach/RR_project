{
 "cells": [
  {
   "cell_type": "code",
   "execution_count": 1,
   "metadata": {},
   "outputs": [],
   "source": [
    "import pandas as pd\n",
    "import statsmodels.stats.api as sms\n",
    "from statsmodels.stats.outliers_influence import variance_inflation_factor as VIF\n",
    "import seaborn as sns"
   ]
  },
  {
   "cell_type": "code",
   "execution_count": 2,
   "metadata": {},
   "outputs": [],
   "source": [
    "alco_all = pd.read_csv('alco_all.csv', sep=';')\n",
    "alco = pd.read_csv('alco.csv', sep = ';')\n",
    "alco_all.rename(columns={alco_all.columns[0]: \"Year\"}, inplace=True)\n"
   ]
  },
  {
   "cell_type": "code",
   "execution_count": 3,
   "metadata": {},
   "outputs": [
    {
     "name": "stdout",
     "output_type": "stream",
     "text": [
      "   Year  Estonia  Latvia  Lithuania (recorded)  Poland  \\\n",
      "0  2000      NaN    8.94                   9.7    9.96   \n",
      "1  2001      NaN    8.54                  10.5    9.36   \n",
      "2  2002      NaN    9.16                  11.1    9.60   \n",
      "3  2003      NaN    9.79                  11.3   10.50   \n",
      "4  2004      NaN   10.22                  12.2   10.60   \n",
      "\n",
      "   Lithuania (estimated total)  \n",
      "0                        10.63  \n",
      "1                        11.61  \n",
      "2                        12.03  \n",
      "3                        12.37  \n",
      "4                        13.06  \n",
      "   Country  Year    APC  Recorded  Unrecorded  Tourist  Beer  Wine  Spirits  \\\n",
      "0  Estonia  2000   9.37      9.03        1.73    -1.39  4.19  1.05     3.22   \n",
      "1  Estonia  2001  10.19     10.10        1.61    -1.52  4.62  0.98     3.92   \n",
      "2  Estonia  2002  11.77     12.16        1.37    -1.75  4.99  0.80     5.05   \n",
      "3  Estonia  2003  11.35     11.64        1.41    -1.69  4.75  0.82     4.81   \n",
      "4  Estonia  2004  14.36     15.52        0.98    -2.14  6.04  1.47     6.13   \n",
      "\n",
      "   Other  \n",
      "0   0.57  \n",
      "1   0.58  \n",
      "2   1.32  \n",
      "3   1.26  \n",
      "4   1.88  \n"
     ]
    }
   ],
   "source": [
    "print(alco_all.head())\n",
    "print(alco.head())"
   ]
  },
  {
   "cell_type": "markdown",
   "metadata": {},
   "source": [
    "COLUMNS DESCRIPTION:\n",
    "- Country - country of measure\n",
    "- Year - year of measure\n",
    "- APC - alcohol per capita\n",
    "- Recorded - recorded measure\n",
    "- Unrecorded - unrecorded measure\n",
    "- Turist - share of tourists in consumption\n",
    "- Beer - share of beer consuption\n",
    "- Wine - share of wine consumption\n",
    "- Spirits - share of spirits consumption\n",
    "- Other - share of other alcoholic beverages consumption"
   ]
  },
  {
   "cell_type": "code",
   "execution_count": 4,
   "metadata": {},
   "outputs": [],
   "source": [
    "alco_all_melted = alco_all.melt(id_vars=[\"Year\"], var_name=\"Country\", value_name=\"Value\")"
   ]
  },
  {
   "cell_type": "code",
   "execution_count": 5,
   "metadata": {},
   "outputs": [],
   "source": [
    "result = alco_all_melted[\n",
    "    (alco_all_melted['Country'].isin(alco['Country'])) &\n",
    "    (alco_all_melted['Year'].isin(alco['Year']))\n",
    "]"
   ]
  },
  {
   "cell_type": "code",
   "execution_count": 6,
   "metadata": {},
   "outputs": [
    {
     "name": "stdout",
     "output_type": "stream",
     "text": [
      "    Year  Country  Value\n",
      "0   2000  Estonia    NaN\n",
      "1   2001  Estonia    NaN\n",
      "2   2002  Estonia    NaN\n",
      "3   2003  Estonia    NaN\n",
      "4   2004  Estonia    NaN\n",
      "5   2005  Estonia   9.80\n",
      "6   2006  Estonia  10.40\n",
      "7   2007  Estonia  12.20\n",
      "8   2008  Estonia  11.90\n",
      "9   2009  Estonia   9.90\n",
      "10  2010  Estonia   9.80\n",
      "11  2011  Estonia  10.10\n",
      "12  2012  Estonia  10.30\n",
      "13  2013  Estonia  10.40\n",
      "14  2014  Estonia  10.60\n",
      "15  2015  Estonia  10.80\n",
      "16  2016  Estonia  11.20\n",
      "17  2017  Estonia  12.60\n",
      "18  2018  Estonia  13.20\n",
      "19  2019  Estonia  12.90\n",
      "20  2020  Estonia  12.60\n",
      "21  2000   Latvia   8.94\n",
      "22  2001   Latvia   8.54\n",
      "23  2002   Latvia   9.16\n",
      "24  2003   Latvia   9.79\n",
      "25  2004   Latvia  10.22\n",
      "26  2005   Latvia  11.05\n",
      "27  2006   Latvia  11.39\n",
      "28  2007   Latvia  12.68\n",
      "29  2008   Latvia  12.44\n",
      "30  2009   Latvia  10.94\n",
      "31  2010   Latvia  10.91\n",
      "32  2011   Latvia  11.10\n",
      "33  2012   Latvia  11.13\n",
      "34  2013   Latvia  11.28\n",
      "35  2014   Latvia  11.39\n",
      "36  2015   Latvia  11.53\n",
      "37  2016   Latvia  11.89\n",
      "38  2017   Latvia  12.88\n",
      "39  2018   Latvia  13.32\n"
     ]
    }
   ],
   "source": [
    "print(alco_all_melted.head(40))"
   ]
  },
  {
   "cell_type": "code",
   "execution_count": 7,
   "metadata": {},
   "outputs": [
    {
     "name": "stdout",
     "output_type": "stream",
     "text": [
      "    Year  Country  Value\n",
      "0   2000  Estonia    NaN\n",
      "1   2001  Estonia    NaN\n",
      "2   2002  Estonia    NaN\n",
      "3   2003  Estonia    NaN\n",
      "4   2004  Estonia    NaN\n",
      "5   2005  Estonia   9.80\n",
      "6   2006  Estonia  10.40\n",
      "7   2007  Estonia  12.20\n",
      "8   2008  Estonia  11.90\n",
      "9   2009  Estonia   9.90\n",
      "10  2010  Estonia   9.80\n",
      "11  2011  Estonia  10.10\n",
      "12  2012  Estonia  10.30\n",
      "13  2013  Estonia  10.40\n",
      "14  2014  Estonia  10.60\n",
      "15  2015  Estonia  10.80\n",
      "16  2016  Estonia  11.20\n",
      "17  2017  Estonia  12.60\n",
      "18  2018  Estonia  13.20\n",
      "19  2019  Estonia  12.90\n",
      "20  2020  Estonia  12.60\n",
      "21  2000   Latvia   8.94\n",
      "22  2001   Latvia   8.54\n",
      "23  2002   Latvia   9.16\n",
      "24  2003   Latvia   9.79\n",
      "25  2004   Latvia  10.22\n",
      "26  2005   Latvia  11.05\n",
      "27  2006   Latvia  11.39\n",
      "28  2007   Latvia  12.68\n",
      "29  2008   Latvia  12.44\n",
      "30  2009   Latvia  10.94\n",
      "31  2010   Latvia  10.91\n",
      "32  2011   Latvia  11.10\n",
      "33  2012   Latvia  11.13\n",
      "34  2013   Latvia  11.28\n",
      "35  2014   Latvia  11.39\n",
      "36  2015   Latvia  11.53\n",
      "37  2016   Latvia  11.89\n",
      "38  2017   Latvia  12.88\n",
      "39  2018   Latvia  13.32\n"
     ]
    }
   ],
   "source": [
    "print(result.head(40))"
   ]
  },
  {
   "cell_type": "code",
   "execution_count": 8,
   "metadata": {},
   "outputs": [
    {
     "name": "stdout",
     "output_type": "stream",
     "text": [
      "    Year  Country  Value    APC  Recorded  Unrecorded  Tourist  Beer  Wine  \\\n",
      "0   2000  Estonia    NaN   9.37      9.03        1.73    -1.39  4.19  1.05   \n",
      "1   2001  Estonia    NaN  10.19     10.10        1.61    -1.52  4.62  0.98   \n",
      "2   2002  Estonia    NaN  11.77     12.16        1.37    -1.75  4.99  0.80   \n",
      "3   2003  Estonia    NaN  11.35     11.64        1.41    -1.69  4.75  0.82   \n",
      "4   2004  Estonia    NaN  14.36     15.52        0.98    -2.14  6.04  1.47   \n",
      "..   ...      ...    ...    ...       ...         ...      ...   ...   ...   \n",
      "58  2016   Poland  11.42  11.42     10.42        1.49    -0.49  5.84  0.83   \n",
      "59  2017   Poland  11.50  11.50     10.54        1.45    -0.49  5.79  0.87   \n",
      "60  2018   Poland  11.57  11.57     10.65        1.41    -0.49  5.92  0.85   \n",
      "61  2019   Poland  11.82  11.82     10.96        1.36    -0.51  5.72  0.88   \n",
      "62  2020   Poland  11.66  11.66     10.79        1.37    -0.50  5.52  0.91   \n",
      "\n",
      "    Spirits  Other  Difference  \n",
      "0      3.22   0.57         NaN  \n",
      "1      3.92   0.58         NaN  \n",
      "2      5.05   1.32         NaN  \n",
      "3      4.81   1.26         NaN  \n",
      "4      6.13   1.88         NaN  \n",
      "..      ...    ...         ...  \n",
      "58     3.76   0.00        1.00  \n",
      "59     3.88   0.00        0.96  \n",
      "60     3.88   0.00        0.92  \n",
      "61     4.36   0.00        0.86  \n",
      "62     4.36   0.00        0.87  \n",
      "\n",
      "[63 rows x 12 columns]\n"
     ]
    }
   ],
   "source": [
    "merged_result = result.merge(\n",
    "    alco,\n",
    "    how='left',\n",
    "    left_on=['Year', 'Country'],\n",
    "    right_on=['Year', 'Country']\n",
    ")\n",
    "\n",
    "merged_result['Difference'] = merged_result['Value'] - merged_result['Recorded']\n",
    "\n",
    "print(merged_result)"
   ]
  },
  {
   "cell_type": "code",
   "execution_count": 9,
   "metadata": {},
   "outputs": [],
   "source": [
    "alcohol_consumption_overall = alco_all\n",
    "del alco_all\n",
    "alcohol_consumption_by_beverage = alco\n",
    "del alco"
   ]
  },
  {
   "cell_type": "code",
   "execution_count": 10,
   "metadata": {},
   "outputs": [
    {
     "name": "stdout",
     "output_type": "stream",
     "text": [
      "     APC  APC_c  Year_c  Estonia  Latvia  Lithuania  Stricter alcohol policy  \\\n",
      "0  10.19   0.82    -9.5        1       0          0                        0   \n",
      "1  11.77   1.58    -8.5        1       0          0                        0   \n",
      "2  11.35  -0.42    -7.5        1       0          0                        0   \n",
      "3  14.36   3.01    -6.5        1       0          0                        0   \n",
      "4  15.18   0.82    -5.5        1       0          0                        0   \n",
      "\n",
      "   Looser alcohol policy  Stricter marketing policy  \n",
      "0                      0                          0  \n",
      "1                      0                          0  \n",
      "2                      0                          0  \n",
      "3                      0                          0  \n",
      "4                      0                          0  \n",
      "                            OLS Regression Results                            \n",
      "==============================================================================\n",
      "Dep. Variable:                  APC_c   R-squared:                       0.264\n",
      "Model:                            OLS   Adj. R-squared:                  0.203\n",
      "Method:                 Least Squares   F-statistic:                     4.356\n",
      "Date:                Mon, 02 Jun 2025   Prob (F-statistic):           0.000821\n",
      "Time:                        23:18:23   Log-Likelihood:                -83.779\n",
      "No. Observations:                  80   AIC:                             181.6\n",
      "Df Residuals:                      73   BIC:                             198.2\n",
      "Df Model:                           6                                         \n",
      "Covariance Type:            nonrobust                                         \n",
      "===========================================================================================\n",
      "                              coef    std err          t      P>|t|      [0.025      0.975]\n",
      "-------------------------------------------------------------------------------------------\n",
      "const                       0.1566      0.165      0.948      0.346      -0.173       0.486\n",
      "Year_c                     -0.0342      0.014     -2.403      0.019      -0.063      -0.006\n",
      "Estonia                     0.1292      0.230      0.561      0.577      -0.330       0.589\n",
      "Latvia                      0.2080      0.231      0.902      0.370      -0.252       0.668\n",
      "Lithuania                   0.0615      0.231      0.267      0.790      -0.398       0.521\n",
      "Stricter alcohol policy    -0.8281      0.213     -3.888      0.000      -1.253      -0.404\n",
      "Looser alcohol policy       0.2238      0.525      0.426      0.671      -0.823       1.270\n",
      "==============================================================================\n",
      "Omnibus:                       12.473   Durbin-Watson:                   2.173\n",
      "Prob(Omnibus):                  0.002   Jarque-Bera (JB):               30.028\n",
      "Skew:                           0.378   Prob(JB):                     3.02e-07\n",
      "Kurtosis:                       5.905   Cond. No.                         37.8\n",
      "==============================================================================\n",
      "\n",
      "Notes:\n",
      "[1] Standard Errors assume that the covariance matrix of the errors is correctly specified.\n"
     ]
    }
   ],
   "source": [
    "## Final Model (included in the article)\n",
    "import pandas as pd\n",
    "import statsmodels.api as sm\n",
    "\n",
    "# Loading model_data\n",
    "data = pd.read_excel('model_data.xlsx')\n",
    "\n",
    "print(data.head())\n",
    "\n",
    "# Creating dependent and independent variables for OLS\n",
    "y = data['APC_c']\n",
    "\n",
    "X = data[['Year_c', 'Estonia', 'Latvia', 'Lithuania', \n",
    "          'Stricter alcohol policy', 'Looser alcohol policy']]\n",
    "\n",
    "X = sm.add_constant(X)\n",
    "\n",
    "#Building the model and checking the results\n",
    "\n",
    "model = sm.OLS(y, X).fit()\n",
    "\n",
    "print(model.summary())\n"
   ]
  },
  {
   "cell_type": "markdown",
   "metadata": {},
   "source": [
    "### Model testing\n",
    "\n",
    "Authors only included a note under Table 1 indicating that the Durbin-Watson test statistic and p-value, indicating no significant autocorrelation in the data.\n",
    "\n",
    "The authors obtained below results:\n",
    "\n",
    "$`\\text{test statistic} = 2.17`$\n",
    "\n",
    "$`\\text{p-value} = 0.62`$"
   ]
  },
  {
   "cell_type": "code",
   "execution_count": 11,
   "metadata": {},
   "outputs": [
    {
     "data": {
      "text/plain": [
       "2.17"
      ]
     },
     "execution_count": 11,
     "metadata": {},
     "output_type": "execute_result"
    }
   ],
   "source": [
    "# Durbin-Watson test\n",
    "\n",
    "dw_stat = sms.durbin_watson(model.resid)\n",
    "round(float(dw_stat),2)\n"
   ]
  },
  {
   "cell_type": "markdown",
   "metadata": {},
   "source": [
    "It is important to note that the Python implementation of Durbin-Watson test does not provide a p-value in its results, thus we cannot verify the authors claim. However, the **value of the test statistic we obtained is equal to test statistic obtained by the authors**. "
   ]
  },
  {
   "cell_type": "markdown",
   "metadata": {},
   "source": [
    "Authors did not provide information about performing other tests to check the validity of the OLS model. Thus we do not know how the model was (or not) tested further, and we only know that the autocorrelation assumption is met, based on Durbin-Watson (D-W) test. \n",
    "\n",
    "To ensure that the results are valid we will verify the, omitted in the paper, other critical OLS model assumptions:\n",
    "- Linear relation of parameters \n",
    "- No perfect multicolineatity present\n",
    "- Homoscedasticity\n",
    "- Normal distribution of errors"
   ]
  },
  {
   "cell_type": "markdown",
   "metadata": {},
   "source": [
    "##### Linear relation of parameters\n",
    "\n",
    "RESET Test - test to verify correct, liear form\n",
    "\n",
    "$`H_0 = \\text{Correct functional (linear) form}`$"
   ]
  },
  {
   "cell_type": "code",
   "execution_count": 12,
   "metadata": {},
   "outputs": [
    {
     "data": {
      "text/plain": [
       "<class 'statsmodels.stats.contrast.ContrastResults'>\n",
       "<Wald test (chi2): statistic=0.8907507681995981, p-value=0.6405837659329889, df_denom=2>"
      ]
     },
     "execution_count": 12,
     "metadata": {},
     "output_type": "execute_result"
    }
   ],
   "source": [
    "sms.linear_reset(model)"
   ]
  },
  {
   "cell_type": "markdown",
   "metadata": {},
   "source": [
    "p-value of ~0.64 indicates that we failed to reject $`H_0`$, thus model has correct functional form"
   ]
  },
  {
   "cell_type": "markdown",
   "metadata": {},
   "source": [
    "##### No multicolinearity\n",
    "\n",
    "VIF - Variance Inflation Factor - measures increase in variance of a regression coefficient caused by multicolinearity\n",
    "\n",
    "We will asume that the VIF of above 10 indicates significant multicolinearity\n"
   ]
  },
  {
   "cell_type": "code",
   "execution_count": 13,
   "metadata": {},
   "outputs": [
    {
     "data": {
      "application/vnd.microsoft.datawrangler.viewer.v0+json": {
       "columns": [
        {
         "name": "index",
         "rawType": "int64",
         "type": "integer"
        },
        {
         "name": "feature",
         "rawType": "object",
         "type": "string"
        },
        {
         "name": "VIF_value",
         "rawType": "float64",
         "type": "float"
        }
       ],
       "ref": "9bb8a15a-ce68-4de7-b1e8-665461031257",
       "rows": [
        [
         "0",
         "const",
         "4.188316656641562"
        ],
        [
         "1",
         "Year_c",
         "1.0345640027160352"
        ],
        [
         "2",
         "Estonia",
         "1.5293773571013687"
        ],
        [
         "3",
         "Latvia",
         "1.5304990456417062"
        ],
        [
         "4",
         "Lithuania",
         "1.5304990456417062"
        ],
        [
         "5",
         "Stricter alcohol policy",
         "1.0608490064383123"
        ],
        [
         "6",
         "Looser alcohol policy",
         "1.0320755236914656"
        ]
       ],
       "shape": {
        "columns": 2,
        "rows": 7
       }
      },
      "text/html": [
       "<div>\n",
       "<style scoped>\n",
       "    .dataframe tbody tr th:only-of-type {\n",
       "        vertical-align: middle;\n",
       "    }\n",
       "\n",
       "    .dataframe tbody tr th {\n",
       "        vertical-align: top;\n",
       "    }\n",
       "\n",
       "    .dataframe thead th {\n",
       "        text-align: right;\n",
       "    }\n",
       "</style>\n",
       "<table border=\"1\" class=\"dataframe\">\n",
       "  <thead>\n",
       "    <tr style=\"text-align: right;\">\n",
       "      <th></th>\n",
       "      <th>feature</th>\n",
       "      <th>VIF_value</th>\n",
       "    </tr>\n",
       "  </thead>\n",
       "  <tbody>\n",
       "    <tr>\n",
       "      <th>0</th>\n",
       "      <td>const</td>\n",
       "      <td>4.188317</td>\n",
       "    </tr>\n",
       "    <tr>\n",
       "      <th>1</th>\n",
       "      <td>Year_c</td>\n",
       "      <td>1.034564</td>\n",
       "    </tr>\n",
       "    <tr>\n",
       "      <th>2</th>\n",
       "      <td>Estonia</td>\n",
       "      <td>1.529377</td>\n",
       "    </tr>\n",
       "    <tr>\n",
       "      <th>3</th>\n",
       "      <td>Latvia</td>\n",
       "      <td>1.530499</td>\n",
       "    </tr>\n",
       "    <tr>\n",
       "      <th>4</th>\n",
       "      <td>Lithuania</td>\n",
       "      <td>1.530499</td>\n",
       "    </tr>\n",
       "    <tr>\n",
       "      <th>5</th>\n",
       "      <td>Stricter alcohol policy</td>\n",
       "      <td>1.060849</td>\n",
       "    </tr>\n",
       "    <tr>\n",
       "      <th>6</th>\n",
       "      <td>Looser alcohol policy</td>\n",
       "      <td>1.032076</td>\n",
       "    </tr>\n",
       "  </tbody>\n",
       "</table>\n",
       "</div>"
      ],
      "text/plain": [
       "                   feature  VIF_value\n",
       "0                    const   4.188317\n",
       "1                   Year_c   1.034564\n",
       "2                  Estonia   1.529377\n",
       "3                   Latvia   1.530499\n",
       "4                Lithuania   1.530499\n",
       "5  Stricter alcohol policy   1.060849\n",
       "6    Looser alcohol policy   1.032076"
      ]
     },
     "execution_count": 13,
     "metadata": {},
     "output_type": "execute_result"
    }
   ],
   "source": [
    "vif_table = pd.DataFrame()\n",
    "vif_table[\"feature\"] = X.columns\n",
    "\n",
    "vif_table[\"VIF_value\"] = [VIF(X.values, idx) for idx in range(len(X.columns))]\n",
    "vif_table"
   ]
  },
  {
   "cell_type": "markdown",
   "metadata": {},
   "source": [
    "We can see that no VIF value is above 10, thus the no multicolinearity assumption is met"
   ]
  },
  {
   "cell_type": "markdown",
   "metadata": {},
   "source": [
    "##### Homoscedasticity\n",
    "\n",
    "Breusch-Pagan test \n",
    "\n",
    "$`H_0 = \\text{there is homoskedasticity}`$"
   ]
  },
  {
   "cell_type": "code",
   "execution_count": 14,
   "metadata": {},
   "outputs": [
    {
     "data": {
      "text/plain": [
       "(np.float64(1.0548203078514993), np.float64(0.3975891176852599))"
      ]
     },
     "execution_count": 14,
     "metadata": {},
     "output_type": "execute_result"
    }
   ],
   "source": [
    "_, _, stat, pv = sms.het_breuschpagan(model.resid, model.model.exog)\n",
    "stat, pv"
   ]
  },
  {
   "cell_type": "markdown",
   "metadata": {},
   "source": [
    "P-value of ~0.39 indicates that we failed to reject $`H_0`$, and thus the Homoscedasticity assumption is met"
   ]
  },
  {
   "cell_type": "markdown",
   "metadata": {},
   "source": [
    "##### Normal distribution of errors\n",
    "\n",
    "Jarque-Bera Test\n",
    "\n",
    "$`H_0 = \\text{Data is normally distributed}`$"
   ]
  },
  {
   "cell_type": "code",
   "execution_count": 15,
   "metadata": {},
   "outputs": [
    {
     "data": {
      "text/plain": [
       "(np.float64(30.027682049726657), np.float64(3.016974856179585e-07))"
      ]
     },
     "execution_count": 15,
     "metadata": {},
     "output_type": "execute_result"
    }
   ],
   "source": [
    "stat, pv, _, _ = sms.jarque_bera(model.resid)\n",
    "stat, pv"
   ]
  },
  {
   "cell_type": "markdown",
   "metadata": {},
   "source": [
    "P-value of less than 0.01 indicates that we reject the null hypothesis, and thus this assumption of the OLS model is not met. Considering the sample size (n=80), it can be considered as sample big enough to apply Central Limit Theorem (CTL), thus we can assume normality of error distribution"
   ]
  },
  {
   "cell_type": "code",
   "execution_count": 16,
   "metadata": {},
   "outputs": [
    {
     "name": "stdout",
     "output_type": "stream",
     "text": [
      "                            OLS Regression Results                            \n",
      "==============================================================================\n",
      "Dep. Variable:                  APC_c   R-squared:                       0.291\n",
      "Model:                            OLS   Adj. R-squared:                  0.233\n",
      "Method:                 Least Squares   F-statistic:                     4.995\n",
      "Date:                Mon, 02 Jun 2025   Prob (F-statistic):           0.000246\n",
      "Time:                        23:18:23   Log-Likelihood:                -82.261\n",
      "No. Observations:                  80   AIC:                             178.5\n",
      "Df Residuals:                      73   BIC:                             195.2\n",
      "Df Model:                           6                                         \n",
      "Covariance Type:            nonrobust                                         \n",
      "===========================================================================================\n",
      "                              coef    std err          t      P>|t|      [0.025      0.975]\n",
      "-------------------------------------------------------------------------------------------\n",
      "const                       0.1449      0.160      0.904      0.369      -0.175       0.464\n",
      "Year_c                     -0.0322      0.014     -2.301      0.024      -0.060      -0.004\n",
      "Estonia                     0.2870      0.244      1.178      0.242      -0.198       0.772\n",
      "Latvia                      0.1739      0.225      0.772      0.443      -0.275       0.623\n",
      "Lithuania                   0.0274      0.225      0.121      0.904      -0.422       0.477\n",
      "Stricter alcohol policy    -0.5988      0.249     -2.406      0.019      -1.095      -0.103\n",
      "Estonia_Stricter_policy    -0.7687      0.443     -1.736      0.087      -1.651       0.114\n",
      "==============================================================================\n",
      "Omnibus:                       12.452   Durbin-Watson:                   2.358\n",
      "Prob(Omnibus):                  0.002   Jarque-Bera (JB):               33.995\n",
      "Skew:                           0.295   Prob(JB):                     4.15e-08\n",
      "Kurtosis:                       6.139   Cond. No.                         34.9\n",
      "==============================================================================\n",
      "\n",
      "Notes:\n",
      "[1] Standard Errors assume that the covariance matrix of the errors is correctly specified.\n"
     ]
    }
   ],
   "source": [
    "## Model A3.1\n",
    "\n",
    "# Define dependent variable\n",
    "y = data['APC_c']\n",
    "\n",
    "# Create interaction term: Estonia * Stricter alcohol policy\n",
    "data['Estonia_Stricter_policy'] = data['Estonia'] * data['Stricter alcohol policy']\n",
    "\n",
    "# Define independent variables including interaction term\n",
    "X = data[['Year_c', 'Estonia', 'Latvia', 'Lithuania', \n",
    "          'Stricter alcohol policy', 'Estonia_Stricter_policy']]\n",
    "\n",
    "# Add constant to the model (intercept)\n",
    "X = sm.add_constant(X)\n",
    "\n",
    "# Fit OLS regression model\n",
    "model_interaction = sm.OLS(y, X).fit()\n",
    "\n",
    "# Display model summary\n",
    "print(model_interaction.summary())\n"
   ]
  },
  {
   "cell_type": "markdown",
   "metadata": {},
   "source": [
    "### Model A3.1 testing\n",
    "\n",
    "Again, authors only included a note under indicating that the Durbin-Watson test statistic and p-value, indicating no significant autocorrelation in the data.\n",
    "\n",
    "The authors for model A3.1 obtained below results:\n",
    "\n",
    "$`\\text{test statistic} = 2.36`$\n",
    "\n",
    "$`\\text{p-value} = 0.87`$"
   ]
  },
  {
   "cell_type": "code",
   "execution_count": 17,
   "metadata": {},
   "outputs": [
    {
     "data": {
      "text/plain": [
       "2.36"
      ]
     },
     "execution_count": 17,
     "metadata": {},
     "output_type": "execute_result"
    }
   ],
   "source": [
    "# Durbin-Watson test\n",
    "\n",
    "dw_stat_31 = sms.durbin_watson(model_interaction.resid)\n",
    "round(float(dw_stat_31),2)"
   ]
  },
  {
   "cell_type": "markdown",
   "metadata": {},
   "source": [
    "D-W Test statistic is **equal to the one found by authors for model A3.1**"
   ]
  },
  {
   "cell_type": "markdown",
   "metadata": {},
   "source": [
    "##### Linear relation of parameters (Model A3.1)"
   ]
  },
  {
   "cell_type": "code",
   "execution_count": 18,
   "metadata": {},
   "outputs": [
    {
     "data": {
      "text/plain": [
       "<class 'statsmodels.stats.contrast.ContrastResults'>\n",
       "<Wald test (chi2): statistic=3.1050926234131166, p-value=0.2117082118190922, df_denom=2>"
      ]
     },
     "execution_count": 18,
     "metadata": {},
     "output_type": "execute_result"
    }
   ],
   "source": [
    "sms.linear_reset(model_interaction)"
   ]
  },
  {
   "cell_type": "markdown",
   "metadata": {},
   "source": [
    "p-value of ~0.21 indicates that we failed to reject $`H_0`$ -> model A3.1 has correct functional form"
   ]
  },
  {
   "cell_type": "markdown",
   "metadata": {},
   "source": [
    "##### No multicolinearity (Model A3.1)"
   ]
  },
  {
   "cell_type": "code",
   "execution_count": 19,
   "metadata": {},
   "outputs": [
    {
     "data": {
      "application/vnd.microsoft.datawrangler.viewer.v0+json": {
       "columns": [
        {
         "name": "index",
         "rawType": "int64",
         "type": "integer"
        },
        {
         "name": "feature",
         "rawType": "object",
         "type": "string"
        },
        {
         "name": "VIF_value",
         "rawType": "float64",
         "type": "float"
        }
       ],
       "ref": "8c6811d8-c0eb-42cf-a4cb-c0ed1b085de4",
       "rows": [
        [
         "0",
         "const",
         "4.098752521387666"
        ],
        [
         "1",
         "Year_c",
         "1.0406150945484594"
        ],
        [
         "2",
         "Estonia",
         "1.7730975330953003"
        ],
        [
         "3",
         "Latvia",
         "1.5185160977601873"
        ],
        [
         "4",
         "Lithuania",
         "1.5185160977601873"
        ],
        [
         "5",
         "Stricter alcohol policy",
         "1.5044329430152077"
        ],
        [
         "6",
         "Estonia_Stricter_policy",
         "1.8326427148355875"
        ]
       ],
       "shape": {
        "columns": 2,
        "rows": 7
       }
      },
      "text/html": [
       "<div>\n",
       "<style scoped>\n",
       "    .dataframe tbody tr th:only-of-type {\n",
       "        vertical-align: middle;\n",
       "    }\n",
       "\n",
       "    .dataframe tbody tr th {\n",
       "        vertical-align: top;\n",
       "    }\n",
       "\n",
       "    .dataframe thead th {\n",
       "        text-align: right;\n",
       "    }\n",
       "</style>\n",
       "<table border=\"1\" class=\"dataframe\">\n",
       "  <thead>\n",
       "    <tr style=\"text-align: right;\">\n",
       "      <th></th>\n",
       "      <th>feature</th>\n",
       "      <th>VIF_value</th>\n",
       "    </tr>\n",
       "  </thead>\n",
       "  <tbody>\n",
       "    <tr>\n",
       "      <th>0</th>\n",
       "      <td>const</td>\n",
       "      <td>4.098753</td>\n",
       "    </tr>\n",
       "    <tr>\n",
       "      <th>1</th>\n",
       "      <td>Year_c</td>\n",
       "      <td>1.040615</td>\n",
       "    </tr>\n",
       "    <tr>\n",
       "      <th>2</th>\n",
       "      <td>Estonia</td>\n",
       "      <td>1.773098</td>\n",
       "    </tr>\n",
       "    <tr>\n",
       "      <th>3</th>\n",
       "      <td>Latvia</td>\n",
       "      <td>1.518516</td>\n",
       "    </tr>\n",
       "    <tr>\n",
       "      <th>4</th>\n",
       "      <td>Lithuania</td>\n",
       "      <td>1.518516</td>\n",
       "    </tr>\n",
       "    <tr>\n",
       "      <th>5</th>\n",
       "      <td>Stricter alcohol policy</td>\n",
       "      <td>1.504433</td>\n",
       "    </tr>\n",
       "    <tr>\n",
       "      <th>6</th>\n",
       "      <td>Estonia_Stricter_policy</td>\n",
       "      <td>1.832643</td>\n",
       "    </tr>\n",
       "  </tbody>\n",
       "</table>\n",
       "</div>"
      ],
      "text/plain": [
       "                   feature  VIF_value\n",
       "0                    const   4.098753\n",
       "1                   Year_c   1.040615\n",
       "2                  Estonia   1.773098\n",
       "3                   Latvia   1.518516\n",
       "4                Lithuania   1.518516\n",
       "5  Stricter alcohol policy   1.504433\n",
       "6  Estonia_Stricter_policy   1.832643"
      ]
     },
     "execution_count": 19,
     "metadata": {},
     "output_type": "execute_result"
    }
   ],
   "source": [
    "vif_table = pd.DataFrame()\n",
    "vif_table[\"feature\"] = X.columns\n",
    "\n",
    "vif_table[\"VIF_value\"] = [VIF(X.values, idx) for idx in range(len(X.columns))]\n",
    "vif_table"
   ]
  },
  {
   "cell_type": "markdown",
   "metadata": {},
   "source": [
    "No VIF value above 10 - no multicolinearity assumption is met"
   ]
  },
  {
   "cell_type": "markdown",
   "metadata": {},
   "source": [
    "##### Homoscedasticity (Model A3.1)"
   ]
  },
  {
   "cell_type": "code",
   "execution_count": 20,
   "metadata": {},
   "outputs": [
    {
     "data": {
      "text/plain": [
       "(np.float64(1.15704332531034), np.float64(0.3387380824146995))"
      ]
     },
     "execution_count": 20,
     "metadata": {},
     "output_type": "execute_result"
    }
   ],
   "source": [
    "_, _, stat31, pv31 = sms.het_breuschpagan(model_interaction.resid, model_interaction.model.exog)\n",
    "stat31, pv31"
   ]
  },
  {
   "cell_type": "markdown",
   "metadata": {},
   "source": [
    "p-value of ~0.34 - we failed to reject $`H_0`$ - the Homoscedasticity assumption is met"
   ]
  },
  {
   "cell_type": "markdown",
   "metadata": {},
   "source": [
    "##### Normal distribution of errors (Model A3.1)"
   ]
  },
  {
   "cell_type": "code",
   "execution_count": 21,
   "metadata": {},
   "outputs": [
    {
     "data": {
      "text/plain": [
       "(np.float64(33.99528689176947), np.float64(4.1497052103443417e-08))"
      ]
     },
     "execution_count": 21,
     "metadata": {},
     "output_type": "execute_result"
    }
   ],
   "source": [
    "stat31, pv31, _, _ = sms.jarque_bera(model_interaction.resid)\n",
    "stat31, pv31"
   ]
  },
  {
   "cell_type": "markdown",
   "metadata": {},
   "source": [
    "P-value again indicates that we reject the null hypothesis, however with the same sample size as for main model, we can assume that CLT applies, thus this assumption is met"
   ]
  },
  {
   "cell_type": "code",
   "execution_count": 22,
   "metadata": {},
   "outputs": [
    {
     "name": "stdout",
     "output_type": "stream",
     "text": [
      "                            OLS Regression Results                            \n",
      "==============================================================================\n",
      "Dep. Variable:                  APC_c   R-squared:                       0.265\n",
      "Model:                            OLS   Adj. R-squared:                  0.205\n",
      "Method:                 Least Squares   F-statistic:                     4.394\n",
      "Date:                Mon, 02 Jun 2025   Prob (F-statistic):           0.000763\n",
      "Time:                        23:18:23   Log-Likelihood:                -83.687\n",
      "No. Observations:                  80   AIC:                             181.4\n",
      "Df Residuals:                      73   BIC:                             198.0\n",
      "Df Model:                           6                                         \n",
      "Covariance Type:            nonrobust                                         \n",
      "===========================================================================================\n",
      "                              coef    std err          t      P>|t|      [0.025      0.975]\n",
      "-------------------------------------------------------------------------------------------\n",
      "const                       0.1764      0.163      1.081      0.283      -0.149       0.502\n",
      "Year_c                     -0.0330      0.014     -2.295      0.025      -0.062      -0.004\n",
      "Estonia                     0.1420      0.231      0.615      0.541      -0.319       0.603\n",
      "Latvia                      0.1490      0.243      0.613      0.542      -0.336       0.634\n",
      "Lithuania                   0.0589      0.229      0.257      0.798      -0.398       0.516\n",
      "Stricter alcohol policy    -0.9135      0.250     -3.651      0.000      -1.412      -0.415\n",
      "Latvia_Stricter_policy      0.2817      0.476      0.592      0.556      -0.666       1.229\n",
      "==============================================================================\n",
      "Omnibus:                       11.865   Durbin-Watson:                   2.191\n",
      "Prob(Omnibus):                  0.003   Jarque-Bera (JB):               29.441\n",
      "Skew:                           0.317   Prob(JB):                     4.05e-07\n",
      "Kurtosis:                       5.904   Cond. No.                         36.2\n",
      "==============================================================================\n",
      "\n",
      "Notes:\n",
      "[1] Standard Errors assume that the covariance matrix of the errors is correctly specified.\n"
     ]
    }
   ],
   "source": [
    "## Model A3.2\n",
    "\n",
    "# Define dependent variable\n",
    "y = data['APC_c']\n",
    "\n",
    "# Create interaction term: Latvia * Stricter alcohol policy\n",
    "data['Latvia_Stricter_policy'] = data['Latvia'] * data['Stricter alcohol policy']\n",
    "\n",
    "# Define independent variables including interaction term\n",
    "X = data[['Year_c', 'Estonia', 'Latvia', 'Lithuania', \n",
    "          'Stricter alcohol policy','Latvia_Stricter_policy']]\n",
    "\n",
    "# Add constant to the model (intercept)\n",
    "X = sm.add_constant(X)\n",
    "\n",
    "# Fit OLS regression model\n",
    "model_interaction = sm.OLS(y, X).fit()\n",
    "\n",
    "# Display model summary\n",
    "print(model_interaction.summary())\n"
   ]
  },
  {
   "cell_type": "markdown",
   "metadata": {},
   "source": [
    "### Model A3.2 testing\n",
    "\n",
    "Results for D-W test obtained by the authors for model A3.2:\n",
    "\n",
    "$`\\text{test statistic} = 2.19`$\n",
    "\n",
    "$`\\text{p-value} = 0.65`$"
   ]
  },
  {
   "cell_type": "code",
   "execution_count": 23,
   "metadata": {},
   "outputs": [
    {
     "data": {
      "text/plain": [
       "2.19"
      ]
     },
     "execution_count": 23,
     "metadata": {},
     "output_type": "execute_result"
    }
   ],
   "source": [
    "# Durbin-Watson test\n",
    "\n",
    "dw_stat_32 = sms.durbin_watson(model_interaction.resid)\n",
    "round(float(dw_stat_32),2)"
   ]
  },
  {
   "cell_type": "markdown",
   "metadata": {},
   "source": [
    "We obtained the same test statistic - assumption is met"
   ]
  },
  {
   "cell_type": "markdown",
   "metadata": {},
   "source": [
    "##### Linear relation of parameters (Model A3.2)"
   ]
  },
  {
   "cell_type": "code",
   "execution_count": 24,
   "metadata": {},
   "outputs": [
    {
     "data": {
      "text/plain": [
       "<class 'statsmodels.stats.contrast.ContrastResults'>\n",
       "<Wald test (chi2): statistic=0.07298384242140771, p-value=0.9641658831578767, df_denom=2>"
      ]
     },
     "execution_count": 24,
     "metadata": {},
     "output_type": "execute_result"
    }
   ],
   "source": [
    "sms.linear_reset(model_interaction)"
   ]
  },
  {
   "cell_type": "markdown",
   "metadata": {},
   "source": [
    "Assumption is met"
   ]
  },
  {
   "cell_type": "markdown",
   "metadata": {},
   "source": [
    "##### No multicolinearity (Model A3.2)"
   ]
  },
  {
   "cell_type": "code",
   "execution_count": 25,
   "metadata": {},
   "outputs": [
    {
     "data": {
      "application/vnd.microsoft.datawrangler.viewer.v0+json": {
       "columns": [
        {
         "name": "index",
         "rawType": "int64",
         "type": "integer"
        },
        {
         "name": "feature",
         "rawType": "object",
         "type": "string"
        },
        {
         "name": "VIF_value",
         "rawType": "float64",
         "type": "float"
        }
       ],
       "ref": "7111ccaa-9a16-4ff2-af91-f55d506dc57b",
       "rows": [
        [
         "0",
         "const",
         "4.096358524382681"
        ],
        [
         "1",
         "Year_c",
         "1.0544168570789483"
        ],
        [
         "2",
         "Estonia",
         "1.5406512524739437"
        ],
        [
         "3",
         "Latvia",
         "1.7062462306862485"
        ],
        [
         "4",
         "Lithuania",
         "1.5180672233217531"
        ],
        [
         "5",
         "Stricter alcohol policy",
         "1.4679618948924207"
        ],
        [
         "6",
         "Latvia_Stricter_policy",
         "1.6532153485040244"
        ]
       ],
       "shape": {
        "columns": 2,
        "rows": 7
       }
      },
      "text/html": [
       "<div>\n",
       "<style scoped>\n",
       "    .dataframe tbody tr th:only-of-type {\n",
       "        vertical-align: middle;\n",
       "    }\n",
       "\n",
       "    .dataframe tbody tr th {\n",
       "        vertical-align: top;\n",
       "    }\n",
       "\n",
       "    .dataframe thead th {\n",
       "        text-align: right;\n",
       "    }\n",
       "</style>\n",
       "<table border=\"1\" class=\"dataframe\">\n",
       "  <thead>\n",
       "    <tr style=\"text-align: right;\">\n",
       "      <th></th>\n",
       "      <th>feature</th>\n",
       "      <th>VIF_value</th>\n",
       "    </tr>\n",
       "  </thead>\n",
       "  <tbody>\n",
       "    <tr>\n",
       "      <th>0</th>\n",
       "      <td>const</td>\n",
       "      <td>4.096359</td>\n",
       "    </tr>\n",
       "    <tr>\n",
       "      <th>1</th>\n",
       "      <td>Year_c</td>\n",
       "      <td>1.054417</td>\n",
       "    </tr>\n",
       "    <tr>\n",
       "      <th>2</th>\n",
       "      <td>Estonia</td>\n",
       "      <td>1.540651</td>\n",
       "    </tr>\n",
       "    <tr>\n",
       "      <th>3</th>\n",
       "      <td>Latvia</td>\n",
       "      <td>1.706246</td>\n",
       "    </tr>\n",
       "    <tr>\n",
       "      <th>4</th>\n",
       "      <td>Lithuania</td>\n",
       "      <td>1.518067</td>\n",
       "    </tr>\n",
       "    <tr>\n",
       "      <th>5</th>\n",
       "      <td>Stricter alcohol policy</td>\n",
       "      <td>1.467962</td>\n",
       "    </tr>\n",
       "    <tr>\n",
       "      <th>6</th>\n",
       "      <td>Latvia_Stricter_policy</td>\n",
       "      <td>1.653215</td>\n",
       "    </tr>\n",
       "  </tbody>\n",
       "</table>\n",
       "</div>"
      ],
      "text/plain": [
       "                   feature  VIF_value\n",
       "0                    const   4.096359\n",
       "1                   Year_c   1.054417\n",
       "2                  Estonia   1.540651\n",
       "3                   Latvia   1.706246\n",
       "4                Lithuania   1.518067\n",
       "5  Stricter alcohol policy   1.467962\n",
       "6   Latvia_Stricter_policy   1.653215"
      ]
     },
     "execution_count": 25,
     "metadata": {},
     "output_type": "execute_result"
    }
   ],
   "source": [
    "vif_table = pd.DataFrame()\n",
    "vif_table[\"feature\"] = X.columns\n",
    "\n",
    "vif_table[\"VIF_value\"] = [VIF(X.values, idx) for idx in range(len(X.columns))]\n",
    "vif_table"
   ]
  },
  {
   "cell_type": "markdown",
   "metadata": {},
   "source": [
    "Assumption is met"
   ]
  },
  {
   "cell_type": "markdown",
   "metadata": {},
   "source": [
    "##### Homoscedasticity (Model A3.2)"
   ]
  },
  {
   "cell_type": "code",
   "execution_count": 26,
   "metadata": {},
   "outputs": [
    {
     "data": {
      "text/plain": [
       "(np.float64(1.1545441597928783), np.float64(0.3400932376093569))"
      ]
     },
     "execution_count": 26,
     "metadata": {},
     "output_type": "execute_result"
    }
   ],
   "source": [
    "_, _, stat32, pv32 = sms.het_breuschpagan(model_interaction.resid, model_interaction.model.exog)\n",
    "stat32, pv32"
   ]
  },
  {
   "cell_type": "markdown",
   "metadata": {},
   "source": [
    "Assumption is met"
   ]
  },
  {
   "cell_type": "markdown",
   "metadata": {},
   "source": [
    "##### Normal distribution of errors (Model A3.2)"
   ]
  },
  {
   "cell_type": "code",
   "execution_count": 27,
   "metadata": {},
   "outputs": [
    {
     "data": {
      "text/plain": [
       "(np.float64(29.44107183902947), np.float64(4.045316254236879e-07))"
      ]
     },
     "execution_count": 27,
     "metadata": {},
     "output_type": "execute_result"
    }
   ],
   "source": [
    "stat32, pv32, _, _ = sms.jarque_bera(model_interaction.resid)\n",
    "stat32, pv32"
   ]
  },
  {
   "cell_type": "markdown",
   "metadata": {},
   "source": [
    "Again, test suggest that the assumption is not met, however CLT applies, thus we assume that residuals have normal distribution"
   ]
  },
  {
   "cell_type": "code",
   "execution_count": 28,
   "metadata": {},
   "outputs": [
    {
     "name": "stdout",
     "output_type": "stream",
     "text": [
      "                            OLS Regression Results                            \n",
      "==============================================================================\n",
      "Dep. Variable:                  APC_c   R-squared:                       0.263\n",
      "Model:                            OLS   Adj. R-squared:                  0.203\n",
      "Method:                 Least Squares   F-statistic:                     4.349\n",
      "Date:                Mon, 02 Jun 2025   Prob (F-statistic):           0.000830\n",
      "Time:                        23:18:23   Log-Likelihood:                -83.795\n",
      "No. Observations:                  80   AIC:                             181.6\n",
      "Df Residuals:                      73   BIC:                             198.3\n",
      "Df Model:                           6                                         \n",
      "Covariance Type:            nonrobust                                         \n",
      "=============================================================================================\n",
      "                                coef    std err          t      P>|t|      [0.025      0.975]\n",
      "---------------------------------------------------------------------------------------------\n",
      "const                         0.1734      0.163      1.062      0.292      -0.152       0.499\n",
      "Year_c                       -0.0342      0.014     -2.403      0.019      -0.063      -0.006\n",
      "Estonia                       0.1376      0.231      0.595      0.554      -0.323       0.599\n",
      "Latvia                        0.2024      0.230      0.881      0.381      -0.255       0.660\n",
      "Lithuania                     0.0190      0.243      0.078      0.938      -0.466       0.504\n",
      "Stricter alcohol policy      -0.8841      0.247     -3.582      0.001      -1.376      -0.392\n",
      "Lithuania_Stricter_policy     0.1848      0.472      0.392      0.696      -0.755       1.125\n",
      "==============================================================================\n",
      "Omnibus:                       12.495   Durbin-Watson:                   2.211\n",
      "Prob(Omnibus):                  0.002   Jarque-Bera (JB):               29.580\n",
      "Skew:                           0.389   Prob(JB):                     3.77e-07\n",
      "Kurtosis:                       5.875   Cond. No.                         35.8\n",
      "==============================================================================\n",
      "\n",
      "Notes:\n",
      "[1] Standard Errors assume that the covariance matrix of the errors is correctly specified.\n"
     ]
    }
   ],
   "source": [
    "## Model A3.3\n",
    "\n",
    "# Define dependent variable\n",
    "y = data['APC_c']\n",
    "\n",
    "# Create interaction term: Lithuania * Stricter alcohol policy\n",
    "data['Lithuania_Stricter_policy'] = data['Lithuania'] * data['Stricter alcohol policy']\n",
    "\n",
    "# Define independent variables including interaction term\n",
    "X = data[['Year_c', 'Estonia', 'Latvia', 'Lithuania', \n",
    "          'Stricter alcohol policy', 'Lithuania_Stricter_policy']]\n",
    "\n",
    "# Add constant to the model (intercept)\n",
    "X = sm.add_constant(X)\n",
    "\n",
    "# Fit OLS regression model\n",
    "model_interaction = sm.OLS(y, X).fit()\n",
    "\n",
    "# Display model summary\n",
    "print(model_interaction.summary())\n"
   ]
  },
  {
   "cell_type": "markdown",
   "metadata": {},
   "source": [
    "### Model A3.3 testing\n",
    "\n",
    "Results for D-W test obtained by the authors for model A3.3:\n",
    "\n",
    "$`\\text{test statistic} = 2.21`$\n",
    "\n",
    "$`\\text{p-value} = 0.67`$"
   ]
  },
  {
   "cell_type": "code",
   "execution_count": 29,
   "metadata": {},
   "outputs": [
    {
     "data": {
      "text/plain": [
       "2.21"
      ]
     },
     "execution_count": 29,
     "metadata": {},
     "output_type": "execute_result"
    }
   ],
   "source": [
    "# Durbin-Watson test\n",
    "\n",
    "dw_stat_33 = sms.durbin_watson(model_interaction.resid)\n",
    "round(float(dw_stat_33),2)"
   ]
  },
  {
   "cell_type": "markdown",
   "metadata": {},
   "source": [
    "Same result obtained - assumption is met"
   ]
  },
  {
   "cell_type": "markdown",
   "metadata": {},
   "source": [
    "##### Linear relation of parameters (Model A3.3)"
   ]
  },
  {
   "cell_type": "code",
   "execution_count": 30,
   "metadata": {},
   "outputs": [
    {
     "data": {
      "text/plain": [
       "<class 'statsmodels.stats.contrast.ContrastResults'>\n",
       "<Wald test (chi2): statistic=0.489597460636084, p-value=0.7828620887898897, df_denom=2>"
      ]
     },
     "execution_count": 30,
     "metadata": {},
     "output_type": "execute_result"
    }
   ],
   "source": [
    "sms.linear_reset(model_interaction)"
   ]
  },
  {
   "cell_type": "markdown",
   "metadata": {},
   "source": [
    "Assumption is met"
   ]
  },
  {
   "cell_type": "markdown",
   "metadata": {},
   "source": [
    "##### No multicolinearity (Model A3.3)"
   ]
  },
  {
   "cell_type": "code",
   "execution_count": 31,
   "metadata": {},
   "outputs": [
    {
     "data": {
      "application/vnd.microsoft.datawrangler.viewer.v0+json": {
       "columns": [
        {
         "name": "index",
         "rawType": "int64",
         "type": "integer"
        },
        {
         "name": "feature",
         "rawType": "object",
         "type": "string"
        },
        {
         "name": "VIF_value",
         "rawType": "float64",
         "type": "float"
        }
       ],
       "ref": "926ea6be-7eba-46d8-a6c8-3264fc4437ab",
       "rows": [
        [
         "0",
         "const",
         "4.093486142946447"
        ],
        [
         "1",
         "Year_c",
         "1.0346599986108216"
        ],
        [
         "2",
         "Estonia",
         "1.5394394665555322"
        ],
        [
         "3",
         "Latvia",
         "1.517528651802459"
        ],
        [
         "4",
         "Lithuania",
         "1.705432381746197"
        ],
        [
         "5",
         "Stricter alcohol policy",
         "1.424202958949781"
        ],
        [
         "6",
         "Lithuania_Stricter_policy",
         "1.622238660832117"
        ]
       ],
       "shape": {
        "columns": 2,
        "rows": 7
       }
      },
      "text/html": [
       "<div>\n",
       "<style scoped>\n",
       "    .dataframe tbody tr th:only-of-type {\n",
       "        vertical-align: middle;\n",
       "    }\n",
       "\n",
       "    .dataframe tbody tr th {\n",
       "        vertical-align: top;\n",
       "    }\n",
       "\n",
       "    .dataframe thead th {\n",
       "        text-align: right;\n",
       "    }\n",
       "</style>\n",
       "<table border=\"1\" class=\"dataframe\">\n",
       "  <thead>\n",
       "    <tr style=\"text-align: right;\">\n",
       "      <th></th>\n",
       "      <th>feature</th>\n",
       "      <th>VIF_value</th>\n",
       "    </tr>\n",
       "  </thead>\n",
       "  <tbody>\n",
       "    <tr>\n",
       "      <th>0</th>\n",
       "      <td>const</td>\n",
       "      <td>4.093486</td>\n",
       "    </tr>\n",
       "    <tr>\n",
       "      <th>1</th>\n",
       "      <td>Year_c</td>\n",
       "      <td>1.034660</td>\n",
       "    </tr>\n",
       "    <tr>\n",
       "      <th>2</th>\n",
       "      <td>Estonia</td>\n",
       "      <td>1.539439</td>\n",
       "    </tr>\n",
       "    <tr>\n",
       "      <th>3</th>\n",
       "      <td>Latvia</td>\n",
       "      <td>1.517529</td>\n",
       "    </tr>\n",
       "    <tr>\n",
       "      <th>4</th>\n",
       "      <td>Lithuania</td>\n",
       "      <td>1.705432</td>\n",
       "    </tr>\n",
       "    <tr>\n",
       "      <th>5</th>\n",
       "      <td>Stricter alcohol policy</td>\n",
       "      <td>1.424203</td>\n",
       "    </tr>\n",
       "    <tr>\n",
       "      <th>6</th>\n",
       "      <td>Lithuania_Stricter_policy</td>\n",
       "      <td>1.622239</td>\n",
       "    </tr>\n",
       "  </tbody>\n",
       "</table>\n",
       "</div>"
      ],
      "text/plain": [
       "                     feature  VIF_value\n",
       "0                      const   4.093486\n",
       "1                     Year_c   1.034660\n",
       "2                    Estonia   1.539439\n",
       "3                     Latvia   1.517529\n",
       "4                  Lithuania   1.705432\n",
       "5    Stricter alcohol policy   1.424203\n",
       "6  Lithuania_Stricter_policy   1.622239"
      ]
     },
     "execution_count": 31,
     "metadata": {},
     "output_type": "execute_result"
    }
   ],
   "source": [
    "vif_table = pd.DataFrame()\n",
    "vif_table[\"feature\"] = X.columns\n",
    "\n",
    "vif_table[\"VIF_value\"] = [VIF(X.values, idx) for idx in range(len(X.columns))]\n",
    "vif_table"
   ]
  },
  {
   "cell_type": "markdown",
   "metadata": {},
   "source": [
    "Assumption is met"
   ]
  },
  {
   "cell_type": "markdown",
   "metadata": {},
   "source": [
    "##### Homoscedasticity (Model A3.3)"
   ]
  },
  {
   "cell_type": "code",
   "execution_count": 32,
   "metadata": {},
   "outputs": [
    {
     "data": {
      "text/plain": [
       "(np.float64(1.1406055202117766), np.float64(0.34772812714462203))"
      ]
     },
     "execution_count": 32,
     "metadata": {},
     "output_type": "execute_result"
    }
   ],
   "source": [
    "_, _, stat33, pv33 = sms.het_breuschpagan(model_interaction.resid, model_interaction.model.exog)\n",
    "stat33, pv33"
   ]
  },
  {
   "cell_type": "markdown",
   "metadata": {},
   "source": [
    "Assumption is met"
   ]
  },
  {
   "cell_type": "markdown",
   "metadata": {},
   "source": [
    "##### Normal distribution of errors (Model A3.3)"
   ]
  },
  {
   "cell_type": "code",
   "execution_count": 33,
   "metadata": {},
   "outputs": [
    {
     "data": {
      "text/plain": [
       "(np.float64(29.579632274034303), np.float64(3.7745437480055436e-07))"
      ]
     },
     "execution_count": 33,
     "metadata": {},
     "output_type": "execute_result"
    }
   ],
   "source": [
    "stat33, pv33, _, _ = sms.jarque_bera(model_interaction.resid)\n",
    "stat33, pv33"
   ]
  },
  {
   "cell_type": "markdown",
   "metadata": {},
   "source": [
    "CTL applies - assumption is met"
   ]
  },
  {
   "cell_type": "code",
   "execution_count": 34,
   "metadata": {},
   "outputs": [
    {
     "name": "stdout",
     "output_type": "stream",
     "text": [
      "                            OLS Regression Results                            \n",
      "==============================================================================\n",
      "Dep. Variable:                  APC_c   R-squared:                       0.269\n",
      "Model:                            OLS   Adj. R-squared:                  0.208\n",
      "Method:                 Least Squares   F-statistic:                     4.466\n",
      "Date:                Mon, 02 Jun 2025   Prob (F-statistic):           0.000665\n",
      "Time:                        23:18:23   Log-Likelihood:                -83.513\n",
      "No. Observations:                  80   AIC:                             181.0\n",
      "Df Residuals:                      73   BIC:                             197.7\n",
      "Df Model:                           6                                         \n",
      "Covariance Type:            nonrobust                                         \n",
      "===========================================================================================\n",
      "                              coef    std err          t      P>|t|      [0.025      0.975]\n",
      "-------------------------------------------------------------------------------------------\n",
      "const                       0.1757      0.163      1.081      0.283      -0.148       0.500\n",
      "Year_c                     -0.0290      0.016     -1.870      0.066      -0.060       0.002\n",
      "Estonia                     0.1355      0.230      0.590      0.557      -0.323       0.594\n",
      "Latvia                      0.1759      0.230      0.765      0.447      -0.283       0.634\n",
      "Lithuania                   0.0486      0.229      0.213      0.832      -0.407       0.504\n",
      "Stricter alcohol policy    -0.7791      0.222     -3.504      0.001      -1.222      -0.336\n",
      "Year_c_Stricter_policy     -0.0321      0.039     -0.819      0.415      -0.110       0.046\n",
      "==============================================================================\n",
      "Omnibus:                       13.196   Durbin-Watson:                   2.136\n",
      "Prob(Omnibus):                  0.001   Jarque-Bera (JB):               32.628\n",
      "Skew:                           0.409   Prob(JB):                     8.22e-08\n",
      "Kurtosis:                       6.020   Cond. No.                         25.9\n",
      "==============================================================================\n",
      "\n",
      "Notes:\n",
      "[1] Standard Errors assume that the covariance matrix of the errors is correctly specified.\n"
     ]
    }
   ],
   "source": [
    "## Model A3.4\n",
    "\n",
    "# Define dependent variable\n",
    "y = data['APC_c']\n",
    "\n",
    "# Create interaction term: Year_c * Stricter alcohol policy\n",
    "data['Year_c_Stricter_policy'] = data['Year_c'] * data['Stricter alcohol policy']\n",
    "\n",
    "# Define independent variables including interaction term\n",
    "X = data[['Year_c', 'Estonia', 'Latvia', 'Lithuania', \n",
    "          'Stricter alcohol policy', 'Year_c_Stricter_policy']]\n",
    "\n",
    "# Add constant to the model (intercept)\n",
    "X = sm.add_constant(X)\n",
    "\n",
    "# Fit OLS regression model\n",
    "model_interaction = sm.OLS(y, X).fit()\n",
    "\n",
    "# Display model summary\n",
    "print(model_interaction.summary())\n"
   ]
  },
  {
   "cell_type": "markdown",
   "metadata": {},
   "source": [
    "### Model A3.4 testing\n",
    "\n",
    "Results for D-W test obtained by the authors for model A3.4:\n",
    "\n",
    "$`\\text{test statistic} = 2.13`$\n",
    "\n",
    "$`\\text{p-value} = 0.56`$"
   ]
  },
  {
   "cell_type": "code",
   "execution_count": 35,
   "metadata": {},
   "outputs": [
    {
     "data": {
      "text/plain": [
       "2.14"
      ]
     },
     "execution_count": 35,
     "metadata": {},
     "output_type": "execute_result"
    }
   ],
   "source": [
    "# Durbin-Watson test\n",
    "\n",
    "dw_stat_34 = sms.durbin_watson(model_interaction.resid)\n",
    "round(float(dw_stat_34),2)"
   ]
  },
  {
   "cell_type": "markdown",
   "metadata": {},
   "source": [
    "Same result obtained - assumption is met"
   ]
  },
  {
   "cell_type": "markdown",
   "metadata": {},
   "source": [
    "##### Linear relation of parameters (Model A3.4)"
   ]
  },
  {
   "cell_type": "code",
   "execution_count": 36,
   "metadata": {},
   "outputs": [
    {
     "data": {
      "text/plain": [
       "<class 'statsmodels.stats.contrast.ContrastResults'>\n",
       "<Wald test (chi2): statistic=3.8561284377002454, p-value=0.14542944575894873, df_denom=2>"
      ]
     },
     "execution_count": 36,
     "metadata": {},
     "output_type": "execute_result"
    }
   ],
   "source": [
    "sms.linear_reset(model_interaction)"
   ]
  },
  {
   "cell_type": "markdown",
   "metadata": {},
   "source": [
    "Assumption is met"
   ]
  },
  {
   "cell_type": "markdown",
   "metadata": {},
   "source": [
    "##### No multicolinearity (Model A3.4)"
   ]
  },
  {
   "cell_type": "code",
   "execution_count": 37,
   "metadata": {},
   "outputs": [
    {
     "data": {
      "application/vnd.microsoft.datawrangler.viewer.v0+json": {
       "columns": [
        {
         "name": "index",
         "rawType": "int64",
         "type": "integer"
        },
        {
         "name": "feature",
         "rawType": "object",
         "type": "string"
        },
        {
         "name": "VIF_value",
         "rawType": "float64",
         "type": "float"
        }
       ],
       "ref": "5a2bf15b-e6ed-44fb-9cc4-cbef7bcbb3e6",
       "rows": [
        [
         "0",
         "const",
         "4.0813636496439445"
        ],
        [
         "1",
         "Year_c",
         "1.2357593376182576"
        ],
        [
         "2",
         "Estonia",
         "1.5304110714038577"
        ],
        [
         "3",
         "Latvia",
         "1.533163619763548"
        ],
        [
         "4",
         "Lithuania",
         "1.5132263291185477"
        ],
        [
         "5",
         "Stricter alcohol policy",
         "1.1640979143634858"
        ],
        [
         "6",
         "Year_c_Stricter_policy",
         "1.3880557151199877"
        ]
       ],
       "shape": {
        "columns": 2,
        "rows": 7
       }
      },
      "text/html": [
       "<div>\n",
       "<style scoped>\n",
       "    .dataframe tbody tr th:only-of-type {\n",
       "        vertical-align: middle;\n",
       "    }\n",
       "\n",
       "    .dataframe tbody tr th {\n",
       "        vertical-align: top;\n",
       "    }\n",
       "\n",
       "    .dataframe thead th {\n",
       "        text-align: right;\n",
       "    }\n",
       "</style>\n",
       "<table border=\"1\" class=\"dataframe\">\n",
       "  <thead>\n",
       "    <tr style=\"text-align: right;\">\n",
       "      <th></th>\n",
       "      <th>feature</th>\n",
       "      <th>VIF_value</th>\n",
       "    </tr>\n",
       "  </thead>\n",
       "  <tbody>\n",
       "    <tr>\n",
       "      <th>0</th>\n",
       "      <td>const</td>\n",
       "      <td>4.081364</td>\n",
       "    </tr>\n",
       "    <tr>\n",
       "      <th>1</th>\n",
       "      <td>Year_c</td>\n",
       "      <td>1.235759</td>\n",
       "    </tr>\n",
       "    <tr>\n",
       "      <th>2</th>\n",
       "      <td>Estonia</td>\n",
       "      <td>1.530411</td>\n",
       "    </tr>\n",
       "    <tr>\n",
       "      <th>3</th>\n",
       "      <td>Latvia</td>\n",
       "      <td>1.533164</td>\n",
       "    </tr>\n",
       "    <tr>\n",
       "      <th>4</th>\n",
       "      <td>Lithuania</td>\n",
       "      <td>1.513226</td>\n",
       "    </tr>\n",
       "    <tr>\n",
       "      <th>5</th>\n",
       "      <td>Stricter alcohol policy</td>\n",
       "      <td>1.164098</td>\n",
       "    </tr>\n",
       "    <tr>\n",
       "      <th>6</th>\n",
       "      <td>Year_c_Stricter_policy</td>\n",
       "      <td>1.388056</td>\n",
       "    </tr>\n",
       "  </tbody>\n",
       "</table>\n",
       "</div>"
      ],
      "text/plain": [
       "                   feature  VIF_value\n",
       "0                    const   4.081364\n",
       "1                   Year_c   1.235759\n",
       "2                  Estonia   1.530411\n",
       "3                   Latvia   1.533164\n",
       "4                Lithuania   1.513226\n",
       "5  Stricter alcohol policy   1.164098\n",
       "6   Year_c_Stricter_policy   1.388056"
      ]
     },
     "execution_count": 37,
     "metadata": {},
     "output_type": "execute_result"
    }
   ],
   "source": [
    "vif_table = pd.DataFrame()\n",
    "vif_table[\"feature\"] = X.columns\n",
    "\n",
    "vif_table[\"VIF_value\"] = [VIF(X.values, idx) for idx in range(len(X.columns))]\n",
    "vif_table"
   ]
  },
  {
   "cell_type": "markdown",
   "metadata": {},
   "source": [
    "Assumption is met"
   ]
  },
  {
   "cell_type": "markdown",
   "metadata": {},
   "source": [
    "##### Homoscedasticity (Model A3.4)"
   ]
  },
  {
   "cell_type": "code",
   "execution_count": 38,
   "metadata": {},
   "outputs": [
    {
     "data": {
      "text/plain": [
       "(np.float64(1.037211544808329), np.float64(0.4084328055837881))"
      ]
     },
     "execution_count": 38,
     "metadata": {},
     "output_type": "execute_result"
    }
   ],
   "source": [
    "_, _, stat34, pv34 = sms.het_breuschpagan(model_interaction.resid, model_interaction.model.exog)\n",
    "stat34, pv34"
   ]
  },
  {
   "cell_type": "markdown",
   "metadata": {},
   "source": [
    "Assumption is met"
   ]
  },
  {
   "cell_type": "markdown",
   "metadata": {},
   "source": [
    "##### Normal distribution of errors (Model A3.4)"
   ]
  },
  {
   "cell_type": "code",
   "execution_count": 39,
   "metadata": {},
   "outputs": [
    {
     "data": {
      "text/plain": [
       "(np.float64(32.62756292400426), np.float64(8.222705424207712e-08))"
      ]
     },
     "execution_count": 39,
     "metadata": {},
     "output_type": "execute_result"
    }
   ],
   "source": [
    "stat34, pv34, _, _ = sms.jarque_bera(model_interaction.resid)\n",
    "stat34, pv34"
   ]
  },
  {
   "cell_type": "markdown",
   "metadata": {},
   "source": [
    "CLT applies - assumption is met"
   ]
  },
  {
   "cell_type": "code",
   "execution_count": 40,
   "metadata": {},
   "outputs": [
    {
     "name": "stdout",
     "output_type": "stream",
     "text": [
      "                            OLS Regression Results                            \n",
      "==============================================================================\n",
      "Dep. Variable:                  APC_c   R-squared:                       0.262\n",
      "Model:                            OLS   Adj. R-squared:                  0.201\n",
      "Method:                 Least Squares   F-statistic:                     4.321\n",
      "Date:                Mon, 02 Jun 2025   Prob (F-statistic):           0.000877\n",
      "Time:                        23:18:23   Log-Likelihood:                -83.863\n",
      "No. Observations:                  80   AIC:                             181.7\n",
      "Df Residuals:                      73   BIC:                             198.4\n",
      "Df Model:                           6                                         \n",
      "Covariance Type:            nonrobust                                         \n",
      "=============================================================================================\n",
      "                                coef    std err          t      P>|t|      [0.025      0.975]\n",
      "---------------------------------------------------------------------------------------------\n",
      "const                         0.1670      0.163      1.023      0.310      -0.158       0.492\n",
      "Year_c                       -0.0340      0.014     -2.384      0.020      -0.062      -0.006\n",
      "Estonia                       0.1342      0.232      0.579      0.565      -0.328       0.596\n",
      "Latvia                        0.1991      0.230      0.867      0.389      -0.259       0.657\n",
      "Lithuania                     0.0557      0.231      0.241      0.810      -0.405       0.516\n",
      "Stricter alcohol policy      -0.8203      0.230     -3.567      0.001      -1.279      -0.362\n",
      "Stricter marketing policy    -0.0616      0.369     -0.167      0.868      -0.797       0.674\n",
      "==============================================================================\n",
      "Omnibus:                       12.045   Durbin-Watson:                   2.198\n",
      "Prob(Omnibus):                  0.002   Jarque-Bera (JB):               28.910\n",
      "Skew:                           0.351   Prob(JB):                     5.28e-07\n",
      "Kurtosis:                       5.860   Cond. No.                         27.9\n",
      "==============================================================================\n",
      "\n",
      "Notes:\n",
      "[1] Standard Errors assume that the covariance matrix of the errors is correctly specified.\n"
     ]
    }
   ],
   "source": [
    "## Model A4\n",
    "\n",
    "# Define dependent variable\n",
    "y = data['APC_c']\n",
    "\n",
    "# Define independent variables\n",
    "X = data[['Year_c', 'Estonia', 'Latvia', 'Lithuania', \n",
    "          'Stricter alcohol policy', 'Stricter marketing policy']]\n",
    "\n",
    "# Add constant to the model (intercept)\n",
    "X = sm.add_constant(X)\n",
    "\n",
    "# Fit OLS regression model\n",
    "model_interaction = sm.OLS(y, X).fit()\n",
    "\n",
    "# Display model summary\n",
    "print(model_interaction.summary())\n"
   ]
  },
  {
   "cell_type": "markdown",
   "metadata": {},
   "source": [
    "### Model A4 testing\n",
    "\n",
    "Results for D-W test obtained by the authors for model A4:\n",
    "\n",
    "$`\\text{test statistic} = 2.14`$\n",
    "\n",
    "$`\\text{p-value} = 0.55`$"
   ]
  },
  {
   "cell_type": "code",
   "execution_count": 47,
   "metadata": {},
   "outputs": [
    {
     "data": {
      "text/plain": [
       "2.2"
      ]
     },
     "execution_count": 47,
     "metadata": {},
     "output_type": "execute_result"
    }
   ],
   "source": [
    "# Durbin-Watson test\n",
    "\n",
    "dw_stat_4 = sms.durbin_watson(model_interaction.resid)\n",
    "round(float(dw_stat_4),2)"
   ]
  },
  {
   "cell_type": "markdown",
   "metadata": {},
   "source": [
    "The value of obtained test statistic **is different than the one obtained by the authors**. However, for this value of critical value the assumption is still met"
   ]
  },
  {
   "cell_type": "markdown",
   "metadata": {},
   "source": [
    "##### Linear relation of parameters (Model A4)"
   ]
  },
  {
   "cell_type": "code",
   "execution_count": 42,
   "metadata": {},
   "outputs": [
    {
     "data": {
      "application/vnd.microsoft.datawrangler.viewer.v0+json": {
       "columns": [
        {
         "name": "index",
         "rawType": "int64",
         "type": "integer"
        },
        {
         "name": "feature",
         "rawType": "object",
         "type": "string"
        },
        {
         "name": "VIF_value",
         "rawType": "float64",
         "type": "float"
        }
       ],
       "ref": "d1923708-2122-494b-8d38-29f85b95e0e0",
       "rows": [
        [
         "0",
         "const",
         "4.081033801177895"
        ],
        [
         "1",
         "Year_c",
         "1.036601250388163"
        ],
        [
         "2",
         "Estonia",
         "1.5453874846721998"
        ],
        [
         "3",
         "Latvia",
         "1.5156706820116008"
        ],
        [
         "4",
         "Lithuania",
         "1.5356891601584233"
        ],
        [
         "5",
         "Stricter alcohol policy",
         "1.2344993148195058"
        ],
        [
         "6",
         "Stricter marketing policy",
         "1.22135211600482"
        ]
       ],
       "shape": {
        "columns": 2,
        "rows": 7
       }
      },
      "text/html": [
       "<div>\n",
       "<style scoped>\n",
       "    .dataframe tbody tr th:only-of-type {\n",
       "        vertical-align: middle;\n",
       "    }\n",
       "\n",
       "    .dataframe tbody tr th {\n",
       "        vertical-align: top;\n",
       "    }\n",
       "\n",
       "    .dataframe thead th {\n",
       "        text-align: right;\n",
       "    }\n",
       "</style>\n",
       "<table border=\"1\" class=\"dataframe\">\n",
       "  <thead>\n",
       "    <tr style=\"text-align: right;\">\n",
       "      <th></th>\n",
       "      <th>feature</th>\n",
       "      <th>VIF_value</th>\n",
       "    </tr>\n",
       "  </thead>\n",
       "  <tbody>\n",
       "    <tr>\n",
       "      <th>0</th>\n",
       "      <td>const</td>\n",
       "      <td>4.081034</td>\n",
       "    </tr>\n",
       "    <tr>\n",
       "      <th>1</th>\n",
       "      <td>Year_c</td>\n",
       "      <td>1.036601</td>\n",
       "    </tr>\n",
       "    <tr>\n",
       "      <th>2</th>\n",
       "      <td>Estonia</td>\n",
       "      <td>1.545387</td>\n",
       "    </tr>\n",
       "    <tr>\n",
       "      <th>3</th>\n",
       "      <td>Latvia</td>\n",
       "      <td>1.515671</td>\n",
       "    </tr>\n",
       "    <tr>\n",
       "      <th>4</th>\n",
       "      <td>Lithuania</td>\n",
       "      <td>1.535689</td>\n",
       "    </tr>\n",
       "    <tr>\n",
       "      <th>5</th>\n",
       "      <td>Stricter alcohol policy</td>\n",
       "      <td>1.234499</td>\n",
       "    </tr>\n",
       "    <tr>\n",
       "      <th>6</th>\n",
       "      <td>Stricter marketing policy</td>\n",
       "      <td>1.221352</td>\n",
       "    </tr>\n",
       "  </tbody>\n",
       "</table>\n",
       "</div>"
      ],
      "text/plain": [
       "                     feature  VIF_value\n",
       "0                      const   4.081034\n",
       "1                     Year_c   1.036601\n",
       "2                    Estonia   1.545387\n",
       "3                     Latvia   1.515671\n",
       "4                  Lithuania   1.535689\n",
       "5    Stricter alcohol policy   1.234499\n",
       "6  Stricter marketing policy   1.221352"
      ]
     },
     "execution_count": 42,
     "metadata": {},
     "output_type": "execute_result"
    }
   ],
   "source": [
    "vif_table = pd.DataFrame()\n",
    "vif_table[\"feature\"] = X.columns\n",
    "\n",
    "vif_table[\"VIF_value\"] = [VIF(X.values, idx) for idx in range(len(X.columns))]\n",
    "vif_table"
   ]
  },
  {
   "cell_type": "markdown",
   "metadata": {},
   "source": [
    "Assumption is met"
   ]
  },
  {
   "cell_type": "markdown",
   "metadata": {},
   "source": [
    "##### Homoscedasticity (Model A4)"
   ]
  },
  {
   "cell_type": "code",
   "execution_count": 43,
   "metadata": {},
   "outputs": [
    {
     "data": {
      "text/plain": [
       "(np.float64(1.113305588560705), np.float64(0.3630595759728643))"
      ]
     },
     "execution_count": 43,
     "metadata": {},
     "output_type": "execute_result"
    }
   ],
   "source": [
    "_, _, stat4, pv4 = sms.het_breuschpagan(model_interaction.resid, model_interaction.model.exog)\n",
    "stat4, pv4"
   ]
  },
  {
   "cell_type": "markdown",
   "metadata": {},
   "source": [
    "Assumption is met"
   ]
  },
  {
   "cell_type": "markdown",
   "metadata": {},
   "source": [
    "##### Normal distribution of errors (Model A4)"
   ]
  },
  {
   "cell_type": "code",
   "execution_count": 44,
   "metadata": {},
   "outputs": [
    {
     "data": {
      "text/plain": [
       "(np.float64(28.909702523201833), np.float64(5.276401806453813e-07))"
      ]
     },
     "execution_count": 44,
     "metadata": {},
     "output_type": "execute_result"
    }
   ],
   "source": [
    "stat4, pv4, _, _ = sms.jarque_bera(model_interaction.resid)\n",
    "stat4, pv4"
   ]
  },
  {
   "cell_type": "markdown",
   "metadata": {},
   "source": [
    "CLT applies - assumption is met"
   ]
  }
 ],
 "metadata": {
  "kernelspec": {
   "display_name": ".venv",
   "language": "python",
   "name": "python3"
  },
  "language_info": {
   "codemirror_mode": {
    "name": "ipython",
    "version": 3
   },
   "file_extension": ".py",
   "mimetype": "text/x-python",
   "name": "python",
   "nbconvert_exporter": "python",
   "pygments_lexer": "ipython3",
   "version": "3.11.6"
  }
 },
 "nbformat": 4,
 "nbformat_minor": 4
}
