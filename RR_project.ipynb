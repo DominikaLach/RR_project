{
 "cells": [
  {
   "cell_type": "code",
   "execution_count": 37,
   "metadata": {},
   "outputs": [],
   "source": [
    "import pandas as pd\n",
    "import statsmodels.stats.api as sms\n",
    "from statsmodels.stats.outliers_influence import variance_inflation_factor as VIF\n",
    "import seaborn as sns"
   ]
  },
  {
   "cell_type": "code",
   "execution_count": 12,
   "metadata": {},
   "outputs": [],
   "source": [
    "alco_all = pd.read_csv('alco_all.csv', sep=';')\n",
    "alco = pd.read_csv('alco.csv', sep = ';')\n",
    "alco_all.rename(columns={alco_all.columns[0]: \"Year\"}, inplace=True)\n"
   ]
  },
  {
   "cell_type": "code",
   "execution_count": 13,
   "metadata": {},
   "outputs": [
    {
     "name": "stdout",
     "output_type": "stream",
     "text": [
      "   Year  Estonia  Latvia  Lithuania (recorded)  Poland  \\\n",
      "0  2000      NaN    8.94                   9.7    9.96   \n",
      "1  2001      NaN    8.54                  10.5    9.36   \n",
      "2  2002      NaN    9.16                  11.1    9.60   \n",
      "3  2003      NaN    9.79                  11.3   10.50   \n",
      "4  2004      NaN   10.22                  12.2   10.60   \n",
      "\n",
      "   Lithuania (estimated total)  \n",
      "0                        10.63  \n",
      "1                        11.61  \n",
      "2                        12.03  \n",
      "3                        12.37  \n",
      "4                        13.06  \n",
      "   Country  Year    APC  Recorded  Unrecorded  Tourist  Beer  Wine  Spirits  \\\n",
      "0  Estonia  2000   9.37      9.03        1.73    -1.39  4.19  1.05     3.22   \n",
      "1  Estonia  2001  10.19     10.10        1.61    -1.52  4.62  0.98     3.92   \n",
      "2  Estonia  2002  11.77     12.16        1.37    -1.75  4.99  0.80     5.05   \n",
      "3  Estonia  2003  11.35     11.64        1.41    -1.69  4.75  0.82     4.81   \n",
      "4  Estonia  2004  14.36     15.52        0.98    -2.14  6.04  1.47     6.13   \n",
      "\n",
      "   Other  \n",
      "0   0.57  \n",
      "1   0.58  \n",
      "2   1.32  \n",
      "3   1.26  \n",
      "4   1.88  \n"
     ]
    }
   ],
   "source": [
    "print(alco_all.head())\n",
    "print(alco.head())"
   ]
  },
  {
   "cell_type": "markdown",
   "metadata": {},
   "source": [
    "COLUMNS DESCRIPTION:\n",
    "- Country - country of measure\n",
    "- Year - year of measure\n",
    "- APC - alcohol per capita\n",
    "- Recorded - recorded measure\n",
    "- Unrecorded - unrecorded measure\n",
    "- Turist - share of tourists in consumption\n",
    "- Beer - share of beer consuption\n",
    "- Wine - share of wine consumption\n",
    "- Spirits - share of spirits consumption\n",
    "- Other - share of other alcoholic beverages consumption"
   ]
  },
  {
   "cell_type": "code",
   "execution_count": 14,
   "metadata": {},
   "outputs": [],
   "source": [
    "alco_all_melted = alco_all.melt(id_vars=[\"Year\"], var_name=\"Country\", value_name=\"Value\")"
   ]
  },
  {
   "cell_type": "code",
   "execution_count": 15,
   "metadata": {},
   "outputs": [],
   "source": [
    "result = alco_all_melted[\n",
    "    (alco_all_melted['Country'].isin(alco['Country'])) &\n",
    "    (alco_all_melted['Year'].isin(alco['Year']))\n",
    "]"
   ]
  },
  {
   "cell_type": "code",
   "execution_count": 16,
   "metadata": {},
   "outputs": [
    {
     "name": "stdout",
     "output_type": "stream",
     "text": [
      "    Year  Country  Value\n",
      "0   2000  Estonia    NaN\n",
      "1   2001  Estonia    NaN\n",
      "2   2002  Estonia    NaN\n",
      "3   2003  Estonia    NaN\n",
      "4   2004  Estonia    NaN\n",
      "5   2005  Estonia   9.80\n",
      "6   2006  Estonia  10.40\n",
      "7   2007  Estonia  12.20\n",
      "8   2008  Estonia  11.90\n",
      "9   2009  Estonia   9.90\n",
      "10  2010  Estonia   9.80\n",
      "11  2011  Estonia  10.10\n",
      "12  2012  Estonia  10.30\n",
      "13  2013  Estonia  10.40\n",
      "14  2014  Estonia  10.60\n",
      "15  2015  Estonia  10.80\n",
      "16  2016  Estonia  11.20\n",
      "17  2017  Estonia  12.60\n",
      "18  2018  Estonia  13.20\n",
      "19  2019  Estonia  12.90\n",
      "20  2020  Estonia  12.60\n",
      "21  2000   Latvia   8.94\n",
      "22  2001   Latvia   8.54\n",
      "23  2002   Latvia   9.16\n",
      "24  2003   Latvia   9.79\n",
      "25  2004   Latvia  10.22\n",
      "26  2005   Latvia  11.05\n",
      "27  2006   Latvia  11.39\n",
      "28  2007   Latvia  12.68\n",
      "29  2008   Latvia  12.44\n",
      "30  2009   Latvia  10.94\n",
      "31  2010   Latvia  10.91\n",
      "32  2011   Latvia  11.10\n",
      "33  2012   Latvia  11.13\n",
      "34  2013   Latvia  11.28\n",
      "35  2014   Latvia  11.39\n",
      "36  2015   Latvia  11.53\n",
      "37  2016   Latvia  11.89\n",
      "38  2017   Latvia  12.88\n",
      "39  2018   Latvia  13.32\n"
     ]
    }
   ],
   "source": [
    "print(alco_all_melted.head(40))"
   ]
  },
  {
   "cell_type": "code",
   "execution_count": 17,
   "metadata": {},
   "outputs": [
    {
     "name": "stdout",
     "output_type": "stream",
     "text": [
      "    Year  Country  Value\n",
      "0   2000  Estonia    NaN\n",
      "1   2001  Estonia    NaN\n",
      "2   2002  Estonia    NaN\n",
      "3   2003  Estonia    NaN\n",
      "4   2004  Estonia    NaN\n",
      "5   2005  Estonia   9.80\n",
      "6   2006  Estonia  10.40\n",
      "7   2007  Estonia  12.20\n",
      "8   2008  Estonia  11.90\n",
      "9   2009  Estonia   9.90\n",
      "10  2010  Estonia   9.80\n",
      "11  2011  Estonia  10.10\n",
      "12  2012  Estonia  10.30\n",
      "13  2013  Estonia  10.40\n",
      "14  2014  Estonia  10.60\n",
      "15  2015  Estonia  10.80\n",
      "16  2016  Estonia  11.20\n",
      "17  2017  Estonia  12.60\n",
      "18  2018  Estonia  13.20\n",
      "19  2019  Estonia  12.90\n",
      "20  2020  Estonia  12.60\n",
      "21  2000   Latvia   8.94\n",
      "22  2001   Latvia   8.54\n",
      "23  2002   Latvia   9.16\n",
      "24  2003   Latvia   9.79\n",
      "25  2004   Latvia  10.22\n",
      "26  2005   Latvia  11.05\n",
      "27  2006   Latvia  11.39\n",
      "28  2007   Latvia  12.68\n",
      "29  2008   Latvia  12.44\n",
      "30  2009   Latvia  10.94\n",
      "31  2010   Latvia  10.91\n",
      "32  2011   Latvia  11.10\n",
      "33  2012   Latvia  11.13\n",
      "34  2013   Latvia  11.28\n",
      "35  2014   Latvia  11.39\n",
      "36  2015   Latvia  11.53\n",
      "37  2016   Latvia  11.89\n",
      "38  2017   Latvia  12.88\n",
      "39  2018   Latvia  13.32\n"
     ]
    }
   ],
   "source": [
    "print(result.head(40))"
   ]
  },
  {
   "cell_type": "code",
   "execution_count": 18,
   "metadata": {},
   "outputs": [
    {
     "name": "stdout",
     "output_type": "stream",
     "text": [
      "    Year  Country  Value    APC  Recorded  Unrecorded  Tourist  Beer  Wine  \\\n",
      "0   2000  Estonia    NaN   9.37      9.03        1.73    -1.39  4.19  1.05   \n",
      "1   2001  Estonia    NaN  10.19     10.10        1.61    -1.52  4.62  0.98   \n",
      "2   2002  Estonia    NaN  11.77     12.16        1.37    -1.75  4.99  0.80   \n",
      "3   2003  Estonia    NaN  11.35     11.64        1.41    -1.69  4.75  0.82   \n",
      "4   2004  Estonia    NaN  14.36     15.52        0.98    -2.14  6.04  1.47   \n",
      "..   ...      ...    ...    ...       ...         ...      ...   ...   ...   \n",
      "58  2016   Poland  11.42  11.42     10.42        1.49    -0.49  5.84  0.83   \n",
      "59  2017   Poland  11.50  11.50     10.54        1.45    -0.49  5.79  0.87   \n",
      "60  2018   Poland  11.57  11.57     10.65        1.41    -0.49  5.92  0.85   \n",
      "61  2019   Poland  11.82  11.82     10.96        1.36    -0.51  5.72  0.88   \n",
      "62  2020   Poland  11.66  11.66     10.79        1.37    -0.50  5.52  0.91   \n",
      "\n",
      "    Spirits  Other  Difference  \n",
      "0      3.22   0.57         NaN  \n",
      "1      3.92   0.58         NaN  \n",
      "2      5.05   1.32         NaN  \n",
      "3      4.81   1.26         NaN  \n",
      "4      6.13   1.88         NaN  \n",
      "..      ...    ...         ...  \n",
      "58     3.76   0.00        1.00  \n",
      "59     3.88   0.00        0.96  \n",
      "60     3.88   0.00        0.92  \n",
      "61     4.36   0.00        0.86  \n",
      "62     4.36   0.00        0.87  \n",
      "\n",
      "[63 rows x 12 columns]\n"
     ]
    }
   ],
   "source": [
    "merged_result = result.merge(\n",
    "    alco,\n",
    "    how='left',\n",
    "    left_on=['Year', 'Country'],\n",
    "    right_on=['Year', 'Country']\n",
    ")\n",
    "\n",
    "merged_result['Difference'] = merged_result['Value'] - merged_result['Recorded']\n",
    "\n",
    "print(merged_result)"
   ]
  },
  {
   "cell_type": "code",
   "execution_count": 19,
   "metadata": {},
   "outputs": [],
   "source": [
    "alcohol_consumption_overall = alco_all\n",
    "del alco_all\n",
    "alcohol_consumption_by_beverage = alco\n",
    "del alco"
   ]
  },
  {
   "cell_type": "code",
   "execution_count": 20,
   "metadata": {},
   "outputs": [
    {
     "name": "stdout",
     "output_type": "stream",
     "text": [
      "     APC  APC_c  Year_c  Estonia  Latvia  Lithuania  Stricter alcohol policy  \\\n",
      "0  10.19   0.82    -9.5        1       0          0                        0   \n",
      "1  11.77   1.58    -8.5        1       0          0                        0   \n",
      "2  11.35  -0.42    -7.5        1       0          0                        0   \n",
      "3  14.36   3.01    -6.5        1       0          0                        0   \n",
      "4  15.18   0.82    -5.5        1       0          0                        0   \n",
      "\n",
      "   Looser alcohol policy  \n",
      "0                      0  \n",
      "1                      0  \n",
      "2                      0  \n",
      "3                      0  \n",
      "4                      0  \n",
      "                            OLS Regression Results                            \n",
      "==============================================================================\n",
      "Dep. Variable:                  APC_c   R-squared:                       0.264\n",
      "Model:                            OLS   Adj. R-squared:                  0.203\n",
      "Method:                 Least Squares   F-statistic:                     4.356\n",
      "Date:                Wed, 28 May 2025   Prob (F-statistic):           0.000821\n",
      "Time:                        17:32:35   Log-Likelihood:                -83.779\n",
      "No. Observations:                  80   AIC:                             181.6\n",
      "Df Residuals:                      73   BIC:                             198.2\n",
      "Df Model:                           6                                         \n",
      "Covariance Type:            nonrobust                                         \n",
      "===========================================================================================\n",
      "                              coef    std err          t      P>|t|      [0.025      0.975]\n",
      "-------------------------------------------------------------------------------------------\n",
      "const                       0.1566      0.165      0.948      0.346      -0.173       0.486\n",
      "Year_c                     -0.0342      0.014     -2.403      0.019      -0.063      -0.006\n",
      "Estonia                     0.1292      0.230      0.561      0.577      -0.330       0.589\n",
      "Latvia                      0.2080      0.231      0.902      0.370      -0.252       0.668\n",
      "Lithuania                   0.0615      0.231      0.267      0.790      -0.398       0.521\n",
      "Stricter alcohol policy    -0.8281      0.213     -3.888      0.000      -1.253      -0.404\n",
      "Looser alcohol policy       0.2238      0.525      0.426      0.671      -0.823       1.270\n",
      "==============================================================================\n",
      "Omnibus:                       12.473   Durbin-Watson:                   2.173\n",
      "Prob(Omnibus):                  0.002   Jarque-Bera (JB):               30.028\n",
      "Skew:                           0.378   Prob(JB):                     3.02e-07\n",
      "Kurtosis:                       5.905   Cond. No.                         37.8\n",
      "==============================================================================\n",
      "\n",
      "Notes:\n",
      "[1] Standard Errors assume that the covariance matrix of the errors is correctly specified.\n"
     ]
    }
   ],
   "source": [
    "##Model Kasia\n",
    "import pandas as pd\n",
    "import statsmodels.api as sm\n",
    "\n",
    "# Loading model_data\n",
    "data = pd.read_excel('model_data.xlsx')\n",
    "\n",
    "print(data.head())\n",
    "\n",
    "# Creating dependent and independent variables for OLS\n",
    "y = data['APC_c']\n",
    "\n",
    "X = data[['Year_c', 'Estonia', 'Latvia', 'Lithuania', \n",
    "          'Stricter alcohol policy', 'Looser alcohol policy']]\n",
    "\n",
    "X = sm.add_constant(X)\n",
    "\n",
    "#Building the model and checking the results\n",
    "\n",
    "model = sm.OLS(y, X).fit()\n",
    "\n",
    "print(model.summary())\n"
   ]
  },
  {
   "cell_type": "markdown",
   "metadata": {},
   "source": [
    "### Model testing\n",
    "\n",
    "Authors only included a note under Table 1 indicating that the Durbin-Watson test statistic and p-value, indicating no significant autocorrelation in the data.\n",
    "\n",
    "The authors obtained below results:\n",
    "\n",
    "$`\\text{test statistic} = 2.17`$\n",
    "\n",
    "$`\\text{p-value} = 0.62`$"
   ]
  },
  {
   "cell_type": "code",
   "execution_count": 26,
   "metadata": {},
   "outputs": [
    {
     "data": {
      "text/plain": [
       "2.17"
      ]
     },
     "execution_count": 26,
     "metadata": {},
     "output_type": "execute_result"
    }
   ],
   "source": [
    "# Durbin-Watson test\n",
    "\n",
    "dw_stat = sms.durbin_watson(model.resid)\n",
    "round(float(dw_stat),2)\n"
   ]
  },
  {
   "cell_type": "markdown",
   "metadata": {},
   "source": [
    "It is important to note that the Python implementation of Durbin-Watson test does not provide a p-value in its results, thus we cannot verify the authors claim. However, the **value of the test statistic we obtained is equal to test statistic obtained by the authors**. "
   ]
  },
  {
   "cell_type": "markdown",
   "metadata": {},
   "source": [
    "Authors did not provide information about performing other tests to check the validity of the OLS model. Thus we do not know how the model was (or not) tested further, and we only know that the autocorrelation assumption is met. \n",
    "\n",
    "To ensure that the results are valid we will verify the, omitted in the paper, other critical OLS model assumptions:\n",
    "- Linear relation of parameters \n",
    "- No perfect multicolineatity present\n",
    "- Homoscedasticity\n",
    "- Normal distribution of errors"
   ]
  },
  {
   "cell_type": "markdown",
   "metadata": {},
   "source": [
    "##### Linear relation of parameters\n",
    "\n",
    "RESET Test - test to verify correct, liear form\n",
    "\n",
    "$`H_0 = \\text{Correct functional (linear) form}`$"
   ]
  },
  {
   "cell_type": "code",
   "execution_count": 29,
   "metadata": {},
   "outputs": [
    {
     "data": {
      "text/plain": [
       "<class 'statsmodels.stats.contrast.ContrastResults'>\n",
       "<Wald test (chi2): statistic=0.8907507681995981, p-value=0.6405837659329889, df_denom=2>"
      ]
     },
     "execution_count": 29,
     "metadata": {},
     "output_type": "execute_result"
    }
   ],
   "source": [
    "sms.linear_reset(model)"
   ]
  },
  {
   "cell_type": "markdown",
   "metadata": {},
   "source": [
    "p-value of ~0.64 indicates that we failed to reject $`H_0`$, thus model has correct functional form"
   ]
  },
  {
   "cell_type": "markdown",
   "metadata": {},
   "source": [
    "##### No multicolinearity\n",
    "\n",
    "VIF - Variance Inflation Factor - measures increase in variance of a regression coefficient caused by multicolinearity\n",
    "\n",
    "We will asume that the VIF of above 10 indicates significant multicolinearity\n"
   ]
  },
  {
   "cell_type": "code",
   "execution_count": 32,
   "metadata": {},
   "outputs": [
    {
     "data": {
      "application/vnd.microsoft.datawrangler.viewer.v0+json": {
       "columns": [
        {
         "name": "index",
         "rawType": "int64",
         "type": "integer"
        },
        {
         "name": "feature",
         "rawType": "object",
         "type": "string"
        },
        {
         "name": "VIF_value",
         "rawType": "float64",
         "type": "float"
        }
       ],
       "ref": "f86d8c6d-0f19-40db-aba3-1d9d359a51f6",
       "rows": [
        [
         "0",
         "const",
         "4.188316656641562"
        ],
        [
         "1",
         "Year_c",
         "1.0345640027160352"
        ],
        [
         "2",
         "Estonia",
         "1.5293773571013687"
        ],
        [
         "3",
         "Latvia",
         "1.5304990456417062"
        ],
        [
         "4",
         "Lithuania",
         "1.5304990456417062"
        ],
        [
         "5",
         "Stricter alcohol policy",
         "1.0608490064383123"
        ],
        [
         "6",
         "Looser alcohol policy",
         "1.0320755236914656"
        ]
       ],
       "shape": {
        "columns": 2,
        "rows": 7
       }
      },
      "text/html": [
       "<div>\n",
       "<style scoped>\n",
       "    .dataframe tbody tr th:only-of-type {\n",
       "        vertical-align: middle;\n",
       "    }\n",
       "\n",
       "    .dataframe tbody tr th {\n",
       "        vertical-align: top;\n",
       "    }\n",
       "\n",
       "    .dataframe thead th {\n",
       "        text-align: right;\n",
       "    }\n",
       "</style>\n",
       "<table border=\"1\" class=\"dataframe\">\n",
       "  <thead>\n",
       "    <tr style=\"text-align: right;\">\n",
       "      <th></th>\n",
       "      <th>feature</th>\n",
       "      <th>VIF_value</th>\n",
       "    </tr>\n",
       "  </thead>\n",
       "  <tbody>\n",
       "    <tr>\n",
       "      <th>0</th>\n",
       "      <td>const</td>\n",
       "      <td>4.188317</td>\n",
       "    </tr>\n",
       "    <tr>\n",
       "      <th>1</th>\n",
       "      <td>Year_c</td>\n",
       "      <td>1.034564</td>\n",
       "    </tr>\n",
       "    <tr>\n",
       "      <th>2</th>\n",
       "      <td>Estonia</td>\n",
       "      <td>1.529377</td>\n",
       "    </tr>\n",
       "    <tr>\n",
       "      <th>3</th>\n",
       "      <td>Latvia</td>\n",
       "      <td>1.530499</td>\n",
       "    </tr>\n",
       "    <tr>\n",
       "      <th>4</th>\n",
       "      <td>Lithuania</td>\n",
       "      <td>1.530499</td>\n",
       "    </tr>\n",
       "    <tr>\n",
       "      <th>5</th>\n",
       "      <td>Stricter alcohol policy</td>\n",
       "      <td>1.060849</td>\n",
       "    </tr>\n",
       "    <tr>\n",
       "      <th>6</th>\n",
       "      <td>Looser alcohol policy</td>\n",
       "      <td>1.032076</td>\n",
       "    </tr>\n",
       "  </tbody>\n",
       "</table>\n",
       "</div>"
      ],
      "text/plain": [
       "                   feature  VIF_value\n",
       "0                    const   4.188317\n",
       "1                   Year_c   1.034564\n",
       "2                  Estonia   1.529377\n",
       "3                   Latvia   1.530499\n",
       "4                Lithuania   1.530499\n",
       "5  Stricter alcohol policy   1.060849\n",
       "6    Looser alcohol policy   1.032076"
      ]
     },
     "execution_count": 32,
     "metadata": {},
     "output_type": "execute_result"
    }
   ],
   "source": [
    "vif_table = pd.DataFrame()\n",
    "vif_table[\"feature\"] = X.columns\n",
    "\n",
    "vif_table[\"VIF_value\"] = [VIF(X.values, idx) for idx in range(len(X.columns))]\n",
    "vif_table"
   ]
  },
  {
   "cell_type": "markdown",
   "metadata": {},
   "source": [
    "We can see that no VIF value is above 10, thus the no multicolinearity assumption is met"
   ]
  },
  {
   "cell_type": "markdown",
   "metadata": {},
   "source": [
    "##### Homoscedasticity\n",
    "\n",
    "Breusch-Pagan test \n",
    "\n",
    "$`H_0 = \\text{there is homoskedasticity}`$"
   ]
  },
  {
   "cell_type": "code",
   "execution_count": 34,
   "metadata": {},
   "outputs": [
    {
     "data": {
      "text/plain": [
       "(np.float64(1.0548203078514993), np.float64(0.3975891176852599))"
      ]
     },
     "execution_count": 34,
     "metadata": {},
     "output_type": "execute_result"
    }
   ],
   "source": [
    "_, _, stat, pv = sms.het_breuschpagan(model.resid, model.model.exog)\n",
    "stat, pv"
   ]
  },
  {
   "cell_type": "markdown",
   "metadata": {},
   "source": [
    "P-value of ~0.39 indicates that we failed to reject $`H_0`$, and thus the Homoscedasticity assumption is met"
   ]
  },
  {
   "cell_type": "markdown",
   "metadata": {},
   "source": [
    "##### Normal distribution of errors\n",
    "\n",
    "Jarque-Bera Test\n",
    "\n",
    "$`H_0 = \\text{Data is normally distributed}`$"
   ]
  },
  {
   "cell_type": "code",
   "execution_count": 35,
   "metadata": {},
   "outputs": [
    {
     "data": {
      "text/plain": [
       "(np.float64(30.027682049726657), np.float64(3.016974856179585e-07))"
      ]
     },
     "execution_count": 35,
     "metadata": {},
     "output_type": "execute_result"
    }
   ],
   "source": [
    "stat, pv, _, _ = sms.jarque_bera(model.resid)\n",
    "stat, pv"
   ]
  },
  {
   "cell_type": "markdown",
   "metadata": {},
   "source": [
    "P-value of less than 0.01 indicates that we reject the null hypothesis, and thus this assumption of the OLS model is not met. Considering the small sample (n=80)"
   ]
  }
 ],
 "metadata": {
  "kernelspec": {
   "display_name": "Python 3 (ipykernel)",
   "language": "python",
   "name": "python3"
  },
  "language_info": {
   "codemirror_mode": {
    "name": "ipython",
    "version": 3
   },
   "file_extension": ".py",
   "mimetype": "text/x-python",
   "name": "python",
   "nbconvert_exporter": "python",
   "pygments_lexer": "ipython3",
   "version": "3.10.9"
  }
 },
 "nbformat": 4,
 "nbformat_minor": 4
}
