{
 "cells": [
  {
   "cell_type": "code",
   "execution_count": 1,
   "metadata": {},
   "outputs": [],
   "source": [
    "import pandas as pd"
   ]
  },
  {
   "cell_type": "code",
   "execution_count": null,
   "metadata": {},
   "outputs": [],
   "source": [
    "alco_all = pd.read_csv('alco_all.csv', sep=';')\n",
    "alco = pd.read_csv('alco.csv', sep = ';')\n",
    "alco_all.rename(columns={alco_all.columns[0]: \"Year\"}, inplace=True)\n"
   ]
  },
  {
   "cell_type": "code",
   "execution_count": 3,
   "metadata": {},
   "outputs": [
    {
     "name": "stdout",
     "output_type": "stream",
     "text": [
      "   Year  Estonia  Latvia  Lithuania (recorded)  Poland  \\\n",
      "0  2000      NaN    8.94                   9.7    9.96   \n",
      "1  2001      NaN    8.54                  10.5    9.36   \n",
      "2  2002      NaN    9.16                  11.1    9.60   \n",
      "3  2003      NaN    9.79                  11.3   10.50   \n",
      "4  2004      NaN   10.22                  12.2   10.60   \n",
      "\n",
      "   Lithuania (estimated total)  \n",
      "0                        10.63  \n",
      "1                        11.61  \n",
      "2                        12.03  \n",
      "3                        12.37  \n",
      "4                        13.06  \n",
      "   Country  Year    APC  Recorded  Unrecorded  Tourist  Beer  Wine  Spirits  \\\n",
      "0  Estonia  2000   9.37      9.03        1.73    -1.39  4.19  1.05     3.22   \n",
      "1  Estonia  2001  10.19     10.10        1.61    -1.52  4.62  0.98     3.92   \n",
      "2  Estonia  2002  11.77     12.16        1.37    -1.75  4.99  0.80     5.05   \n",
      "3  Estonia  2003  11.35     11.64        1.41    -1.69  4.75  0.82     4.81   \n",
      "4  Estonia  2004  14.36     15.52        0.98    -2.14  6.04  1.47     6.13   \n",
      "\n",
      "   Other  \n",
      "0   0.57  \n",
      "1   0.58  \n",
      "2   1.32  \n",
      "3   1.26  \n",
      "4   1.88  \n"
     ]
    }
   ],
   "source": [
    "print(alco_all.head())\n",
    "print(alco.head())"
   ]
  },
  {
   "cell_type": "code",
   "execution_count": 4,
   "metadata": {},
   "outputs": [],
   "source": [
    "alco_all_melted = alco_all.melt(id_vars=[\"Year\"], var_name=\"Country\", value_name=\"Value\")"
   ]
  },
  {
   "cell_type": "code",
   "execution_count": 5,
   "metadata": {},
   "outputs": [],
   "source": [
    "result = alco_all_melted[\n",
    "    (alco_all_melted['Country'].isin(alco['Country'])) &\n",
    "    (alco_all_melted['Year'].isin(alco['Year']))\n",
    "]"
   ]
  },
  {
   "cell_type": "code",
   "execution_count": 23,
   "metadata": {},
   "outputs": [
    {
     "name": "stdout",
     "output_type": "stream",
     "text": [
      "    Year  Country  Value\n",
      "0   2000  Estonia    NaN\n",
      "1   2001  Estonia    NaN\n",
      "2   2002  Estonia    NaN\n",
      "3   2003  Estonia    NaN\n",
      "4   2004  Estonia    NaN\n",
      "5   2005  Estonia   9.80\n",
      "6   2006  Estonia  10.40\n",
      "7   2007  Estonia  12.20\n",
      "8   2008  Estonia  11.90\n",
      "9   2009  Estonia   9.90\n",
      "10  2010  Estonia   9.80\n",
      "11  2011  Estonia  10.10\n",
      "12  2012  Estonia  10.30\n",
      "13  2013  Estonia  10.40\n",
      "14  2014  Estonia  10.60\n",
      "15  2015  Estonia  10.80\n",
      "16  2016  Estonia  11.20\n",
      "17  2017  Estonia  12.60\n",
      "18  2018  Estonia  13.20\n",
      "19  2019  Estonia  12.90\n",
      "20  2020  Estonia  12.60\n",
      "21  2000   Latvia   8.94\n",
      "22  2001   Latvia   8.54\n",
      "23  2002   Latvia   9.16\n",
      "24  2003   Latvia   9.79\n",
      "25  2004   Latvia  10.22\n",
      "26  2005   Latvia  11.05\n",
      "27  2006   Latvia  11.39\n",
      "28  2007   Latvia  12.68\n",
      "29  2008   Latvia  12.44\n",
      "30  2009   Latvia  10.94\n",
      "31  2010   Latvia  10.91\n",
      "32  2011   Latvia  11.10\n",
      "33  2012   Latvia  11.13\n",
      "34  2013   Latvia  11.28\n",
      "35  2014   Latvia  11.39\n",
      "36  2015   Latvia  11.53\n",
      "37  2016   Latvia  11.89\n",
      "38  2017   Latvia  12.88\n",
      "39  2018   Latvia  13.32\n"
     ]
    }
   ],
   "source": [
    "print(alco_all_melted.head(40))"
   ]
  },
  {
   "cell_type": "code",
   "execution_count": 22,
   "metadata": {},
   "outputs": [
    {
     "name": "stdout",
     "output_type": "stream",
     "text": [
      "    Year  Country  Value\n",
      "0   2000  Estonia    NaN\n",
      "1   2001  Estonia    NaN\n",
      "2   2002  Estonia    NaN\n",
      "3   2003  Estonia    NaN\n",
      "4   2004  Estonia    NaN\n",
      "5   2005  Estonia   9.80\n",
      "6   2006  Estonia  10.40\n",
      "7   2007  Estonia  12.20\n",
      "8   2008  Estonia  11.90\n",
      "9   2009  Estonia   9.90\n",
      "10  2010  Estonia   9.80\n",
      "11  2011  Estonia  10.10\n",
      "12  2012  Estonia  10.30\n",
      "13  2013  Estonia  10.40\n",
      "14  2014  Estonia  10.60\n",
      "15  2015  Estonia  10.80\n",
      "16  2016  Estonia  11.20\n",
      "17  2017  Estonia  12.60\n",
      "18  2018  Estonia  13.20\n",
      "19  2019  Estonia  12.90\n",
      "20  2020  Estonia  12.60\n",
      "21  2000   Latvia   8.94\n",
      "22  2001   Latvia   8.54\n",
      "23  2002   Latvia   9.16\n",
      "24  2003   Latvia   9.79\n",
      "25  2004   Latvia  10.22\n",
      "26  2005   Latvia  11.05\n",
      "27  2006   Latvia  11.39\n",
      "28  2007   Latvia  12.68\n",
      "29  2008   Latvia  12.44\n",
      "30  2009   Latvia  10.94\n",
      "31  2010   Latvia  10.91\n",
      "32  2011   Latvia  11.10\n",
      "33  2012   Latvia  11.13\n",
      "34  2013   Latvia  11.28\n",
      "35  2014   Latvia  11.39\n",
      "36  2015   Latvia  11.53\n",
      "37  2016   Latvia  11.89\n",
      "38  2017   Latvia  12.88\n",
      "39  2018   Latvia  13.32\n"
     ]
    }
   ],
   "source": [
    "print(result.head(40))"
   ]
  },
  {
   "cell_type": "code",
   "execution_count": null,
   "metadata": {},
   "outputs": [
    {
     "name": "stdout",
     "output_type": "stream",
     "text": [
      "    Year  Country  Value    APC  Recorded  Unrecorded  Tourist  Beer  Wine  \\\n",
      "0   2000  Estonia    NaN   9.37      9.03        1.73    -1.39  4.19  1.05   \n",
      "1   2001  Estonia    NaN  10.19     10.10        1.61    -1.52  4.62  0.98   \n",
      "2   2002  Estonia    NaN  11.77     12.16        1.37    -1.75  4.99  0.80   \n",
      "3   2003  Estonia    NaN  11.35     11.64        1.41    -1.69  4.75  0.82   \n",
      "4   2004  Estonia    NaN  14.36     15.52        0.98    -2.14  6.04  1.47   \n",
      "..   ...      ...    ...    ...       ...         ...      ...   ...   ...   \n",
      "58  2016   Poland  11.42  11.42     10.42        1.49    -0.49  5.84  0.83   \n",
      "59  2017   Poland  11.50  11.50     10.54        1.45    -0.49  5.79  0.87   \n",
      "60  2018   Poland  11.57  11.57     10.65        1.41    -0.49  5.92  0.85   \n",
      "61  2019   Poland  11.82  11.82     10.96        1.36    -0.51  5.72  0.88   \n",
      "62  2020   Poland  11.66  11.66     10.79        1.37    -0.50  5.52  0.91   \n",
      "\n",
      "    Spirits  Other  Difference  \n",
      "0      3.22   0.57         NaN  \n",
      "1      3.92   0.58         NaN  \n",
      "2      5.05   1.32         NaN  \n",
      "3      4.81   1.26         NaN  \n",
      "4      6.13   1.88         NaN  \n",
      "..      ...    ...         ...  \n",
      "58     3.76   0.00        1.00  \n",
      "59     3.88   0.00        0.96  \n",
      "60     3.88   0.00        0.92  \n",
      "61     4.36   0.00        0.86  \n",
      "62     4.36   0.00        0.87  \n",
      "\n",
      "[63 rows x 12 columns]\n"
     ]
    }
   ],
   "source": [
    "merged_result = result.merge(\n",
    "    alco,\n",
    "    how='left',\n",
    "    left_on=['Year', 'Country'],\n",
    "    right_on=['Year', 'Country']\n",
    ")\n",
    "\n",
    "merged_result['Difference'] = merged_result['Value'] - merged_result['Recorded']\n",
    "\n",
    "print(merged_result)"
   ]
  }
 ],
 "metadata": {
  "kernelspec": {
   "display_name": "Python 3",
   "language": "python",
   "name": "python3"
  },
  "language_info": {
   "codemirror_mode": {
    "name": "ipython",
    "version": 3
   },
   "file_extension": ".py",
   "mimetype": "text/x-python",
   "name": "python",
   "nbconvert_exporter": "python",
   "pygments_lexer": "ipython3",
   "version": "3.11.9"
  },
  "orig_nbformat": 4
 },
 "nbformat": 4,
 "nbformat_minor": 2
}
